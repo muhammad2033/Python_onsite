{
 "cells": [
  {
   "cell_type": "code",
   "execution_count": 1,
   "id": "3d47022c",
   "metadata": {},
   "outputs": [],
   "source": [
    "# variables \n",
    "# and assignment operator\n",
    "\n",
    "a = 2  #int\n",
    "b = 2.0  #float\n",
    "c = a+b\n"
   ]
  },
  {
   "cell_type": "code",
   "execution_count": 2,
   "id": "b0a3259a",
   "metadata": {},
   "outputs": [
    {
     "data": {
      "text/plain": [
       "4.0"
      ]
     },
     "execution_count": 2,
     "metadata": {},
     "output_type": "execute_result"
    }
   ],
   "source": [
    "c"
   ]
  },
  {
   "cell_type": "code",
   "execution_count": 3,
   "id": "9d550fee",
   "metadata": {},
   "outputs": [
    {
     "data": {
      "text/plain": [
       "'maaz'"
      ]
     },
     "execution_count": 3,
     "metadata": {},
     "output_type": "execute_result"
    }
   ],
   "source": [
    "# String \n",
    "\n",
    "name = \"maaz\"\n",
    "name"
   ]
  },
  {
   "cell_type": "code",
   "execution_count": 4,
   "id": "7c398538",
   "metadata": {},
   "outputs": [
    {
     "data": {
      "text/plain": [
       "int"
      ]
     },
     "execution_count": 4,
     "metadata": {},
     "output_type": "execute_result"
    }
   ],
   "source": [
    "type(a)"
   ]
  },
  {
   "cell_type": "code",
   "execution_count": 5,
   "id": "db15d44a",
   "metadata": {},
   "outputs": [
    {
     "data": {
      "text/plain": [
       "float"
      ]
     },
     "execution_count": 5,
     "metadata": {},
     "output_type": "execute_result"
    }
   ],
   "source": [
    "type(b)"
   ]
  },
  {
   "cell_type": "code",
   "execution_count": 6,
   "id": "dfffb591",
   "metadata": {},
   "outputs": [
    {
     "data": {
      "text/plain": [
       "str"
      ]
     },
     "execution_count": 6,
     "metadata": {},
     "output_type": "execute_result"
    }
   ],
   "source": [
    "type(name)"
   ]
  },
  {
   "cell_type": "code",
   "execution_count": 7,
   "id": "6f276590",
   "metadata": {},
   "outputs": [],
   "source": [
    "# typecasting\n",
    "value = str(2)\n"
   ]
  },
  {
   "cell_type": "code",
   "execution_count": 8,
   "id": "a0d6dc46",
   "metadata": {},
   "outputs": [
    {
     "data": {
      "text/plain": [
       "'2'"
      ]
     },
     "execution_count": 8,
     "metadata": {},
     "output_type": "execute_result"
    }
   ],
   "source": [
    "value"
   ]
  },
  {
   "cell_type": "code",
   "execution_count": 9,
   "id": "6335fa2b",
   "metadata": {},
   "outputs": [
    {
     "data": {
      "text/plain": [
       "str"
      ]
     },
     "execution_count": 9,
     "metadata": {},
     "output_type": "execute_result"
    }
   ],
   "source": [
    "type(value)"
   ]
  },
  {
   "cell_type": "code",
   "execution_count": 14,
   "id": "c1b4d47e",
   "metadata": {},
   "outputs": [
    {
     "data": {
      "text/plain": [
       "2.0"
      ]
     },
     "execution_count": 14,
     "metadata": {},
     "output_type": "execute_result"
    }
   ],
   "source": [
    "value = 2\n",
    "changing_the_value = float(value)\n",
    "changing_the_value"
   ]
  },
  {
   "cell_type": "code",
   "execution_count": 16,
   "id": "eb5e578f",
   "metadata": {},
   "outputs": [
    {
     "data": {
      "text/plain": [
       "float"
      ]
     },
     "execution_count": 16,
     "metadata": {},
     "output_type": "execute_result"
    }
   ],
   "source": [
    "type(changing_the_value)"
   ]
  },
  {
   "cell_type": "code",
   "execution_count": null,
   "id": "cdb18380",
   "metadata": {},
   "outputs": [],
   "source": [
    "# input statment in python\n",
    "\n",
    "name = input(\"enter the values:\")\n",
    "print(name,type(name))"
   ]
  },
  {
   "cell_type": "code",
   "execution_count": 24,
   "id": "4a0c6c17",
   "metadata": {},
   "outputs": [
    {
     "name": "stdout",
     "output_type": "stream",
     "text": [
      "enter the value1:22\n",
      "enter the value2:22\n",
      "44 <class 'int'>\n"
     ]
    }
   ],
   "source": [
    "name = input(\"enter the value1:\")\n",
    "name1 = input(\"enter the value2:\")\n",
    "name2 = int(name)+int(name1)\n",
    "print(name2 , type(name2))"
   ]
  },
  {
   "cell_type": "code",
   "execution_count": 25,
   "id": "ef8f2066",
   "metadata": {},
   "outputs": [
    {
     "data": {
      "text/plain": [
       "True"
      ]
     },
     "execution_count": 25,
     "metadata": {},
     "output_type": "execute_result"
    }
   ],
   "source": [
    "# membership operator \n",
    "name = \"maaz\"\n",
    "\"m\" in name"
   ]
  },
  {
   "cell_type": "code",
   "execution_count": 29,
   "id": "3d60f265",
   "metadata": {},
   "outputs": [
    {
     "data": {
      "text/plain": [
       "False"
      ]
     },
     "execution_count": 29,
     "metadata": {},
     "output_type": "execute_result"
    }
   ],
   "source": [
    "# logical operator \n",
    "a , b = 22 , 20\n",
    "\n",
    "# comparison operator \n",
    "a>11 and b<11 "
   ]
  },
  {
   "cell_type": "code",
   "execution_count": 30,
   "id": "c0403500",
   "metadata": {},
   "outputs": [
    {
     "data": {
      "text/plain": [
       "True"
      ]
     },
     "execution_count": 30,
     "metadata": {},
     "output_type": "execute_result"
    }
   ],
   "source": [
    "\n",
    "a>11 or b<11 "
   ]
  },
  {
   "cell_type": "code",
   "execution_count": 31,
   "id": "46a81cb5",
   "metadata": {},
   "outputs": [
    {
     "data": {
      "text/plain": [
       "True"
      ]
     },
     "execution_count": 31,
     "metadata": {},
     "output_type": "execute_result"
    }
   ],
   "source": [
    "not a<11 #it gives opposite value"
   ]
  },
  {
   "cell_type": "code",
   "execution_count": null,
   "id": "e1fe501c",
   "metadata": {},
   "outputs": [],
   "source": [
    "# If and If/else\n"
   ]
  },
  {
   "cell_type": "code",
   "execution_count": null,
   "id": "461c448e",
   "metadata": {},
   "outputs": [],
   "source": [
    "# ret_True_val, condition , retFalseValue\n",
    "# we call it ternary operator\n",
    "a = 55 \n",
    "b = 44\n"
   ]
  },
  {
   "cell_type": "code",
   "execution_count": null,
   "id": "92bc2cab",
   "metadata": {},
   "outputs": [],
   "source": [
    "a if a>b else b"
   ]
  },
  {
   "cell_type": "code",
   "execution_count": null,
   "id": "5e896baf",
   "metadata": {},
   "outputs": [],
   "source": []
  }
 ],
 "metadata": {
  "kernelspec": {
   "display_name": "Python 3 (ipykernel)",
   "language": "python",
   "name": "python3"
  },
  "language_info": {
   "codemirror_mode": {
    "name": "ipython",
    "version": 3
   },
   "file_extension": ".py",
   "mimetype": "text/x-python",
   "name": "python",
   "nbconvert_exporter": "python",
   "pygments_lexer": "ipython3",
   "version": "3.10.9"
  }
 },
 "nbformat": 4,
 "nbformat_minor": 5
}
