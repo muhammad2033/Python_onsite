{
 "cells": [
  {
   "cell_type": "code",
   "execution_count": 9,
   "id": "df7eeb2e",
   "metadata": {},
   "outputs": [],
   "source": [
    "name = 'khan'"
   ]
  },
  {
   "cell_type": "code",
   "execution_count": 11,
   "id": "2410f633",
   "metadata": {},
   "outputs": [
    {
     "data": {
      "text/plain": [
       "False"
      ]
     },
     "execution_count": 11,
     "metadata": {},
     "output_type": "execute_result"
    }
   ],
   "source": [
    "'m' in name"
   ]
  },
  {
   "cell_type": "code",
   "execution_count": 12,
   "id": "976a209c",
   "metadata": {},
   "outputs": [
    {
     "data": {
      "text/plain": [
       "True"
      ]
     },
     "execution_count": 12,
     "metadata": {},
     "output_type": "execute_result"
    }
   ],
   "source": [
    "'n' in name"
   ]
  },
  {
   "cell_type": "code",
   "execution_count": 18,
   "id": "04a12a1e",
   "metadata": {},
   "outputs": [
    {
     "name": "stdout",
     "output_type": "stream",
     "text": [
      "<class 'str'>\n",
      "<class 'int'>\n",
      "<class 'float'>\n"
     ]
    }
   ],
   "source": [
    "num = '123'\n",
    "print(type(num))\n",
    "numInt = int(num)\n",
    "print(type(numInt))\n",
    "numFLoat = float(num)\n",
    "print(type(numFLoat))"
   ]
  },
  {
   "cell_type": "code",
   "execution_count": 23,
   "id": "acf9970e",
   "metadata": {},
   "outputs": [
    {
     "name": "stdout",
     "output_type": "stream",
     "text": [
      "B\n"
     ]
    }
   ],
   "source": [
    "marks = 74\n",
    "if marks >= 90:\n",
    "    print('A+')\n",
    "elif marks >=80 and marks< 89:\n",
    "    print('A')\n",
    "elif marks >=70 and marks<79:\n",
    "    print('B')\n",
    "\n",
    "else:\n",
    "    print('Low Grade')\n",
    "    \n",
    "    "
   ]
  },
  {
   "cell_type": "code",
   "execution_count": 24,
   "id": "b0272210",
   "metadata": {},
   "outputs": [
    {
     "name": "stdout",
     "output_type": "stream",
     "text": [
      "B\n"
     ]
    }
   ],
   "source": [
    "marks = 74\n",
    "if marks >= 90:\n",
    "    print('A+')\n",
    "if marks >=80 and marks< 89:\n",
    "    print('A')\n",
    "if marks >=70 and marks<79:\n",
    "    print('B')\n",
    "else:\n",
    "    print('Low Grade')\n",
    "    \n",
    "    "
   ]
  },
  {
   "cell_type": "code",
   "execution_count": null,
   "id": "8f341f4f",
   "metadata": {},
   "outputs": [],
   "source": []
  },
  {
   "cell_type": "code",
   "execution_count": 27,
   "id": "06666583",
   "metadata": {},
   "outputs": [
    {
     "data": {
      "text/plain": [
       "50"
      ]
     },
     "execution_count": 27,
     "metadata": {},
     "output_type": "execute_result"
    }
   ],
   "source": [
    "a = 50\n",
    "b = 20\n",
    "# ret_True_val, condition, retFalseValue\n",
    "a if a>b else b"
   ]
  },
  {
   "cell_type": "code",
   "execution_count": 28,
   "id": "c01ff0d9",
   "metadata": {},
   "outputs": [
    {
     "name": "stdout",
     "output_type": "stream",
     "text": [
      "Enter a number 1-100:60\n",
      "Your value is greater than threshold\n"
     ]
    }
   ],
   "source": [
    "threshold = 50\n",
    "UserInput = float(input('Enter a number 1-100:'))\n",
    "if UserInput>threshold:\n",
    "    print('Your value is greater than threshold')\n",
    "else:\n",
    "    print('Your value is smaller than threshold')"
   ]
  },
  {
   "cell_type": "code",
   "execution_count": 47,
   "id": "c2792d8a",
   "metadata": {},
   "outputs": [],
   "source": [
    "sentence = 'We love a pak.'"
   ]
  },
  {
   "cell_type": "code",
   "execution_count": 34,
   "id": "93251c04",
   "metadata": {},
   "outputs": [
    {
     "data": {
      "text/plain": [
       "'W'"
      ]
     },
     "execution_count": 34,
     "metadata": {},
     "output_type": "execute_result"
    }
   ],
   "source": [
    "sentence[0]"
   ]
  },
  {
   "cell_type": "code",
   "execution_count": 35,
   "id": "505f71e1",
   "metadata": {},
   "outputs": [
    {
     "data": {
      "text/plain": [
       "'v'"
      ]
     },
     "execution_count": 35,
     "metadata": {},
     "output_type": "execute_result"
    }
   ],
   "source": [
    "sentence[5]"
   ]
  },
  {
   "cell_type": "code",
   "execution_count": 36,
   "id": "24503298",
   "metadata": {},
   "outputs": [
    {
     "data": {
      "text/plain": [
       "'love pak.'"
      ]
     },
     "execution_count": 36,
     "metadata": {},
     "output_type": "execute_result"
    }
   ],
   "source": [
    "sentence[3:]"
   ]
  },
  {
   "cell_type": "code",
   "execution_count": 38,
   "id": "ecda183f",
   "metadata": {},
   "outputs": [
    {
     "data": {
      "text/plain": [
       "'love'"
      ]
     },
     "execution_count": 38,
     "metadata": {},
     "output_type": "execute_result"
    }
   ],
   "source": [
    "sentence[3:7]"
   ]
  },
  {
   "cell_type": "code",
   "execution_count": 39,
   "id": "c6531654",
   "metadata": {},
   "outputs": [
    {
     "data": {
      "text/plain": [
       "'We love'"
      ]
     },
     "execution_count": 39,
     "metadata": {},
     "output_type": "execute_result"
    }
   ],
   "source": [
    "sentence[:7]"
   ]
  },
  {
   "cell_type": "code",
   "execution_count": 43,
   "id": "382b810f",
   "metadata": {},
   "outputs": [
    {
     "data": {
      "text/plain": [
       "'We '"
      ]
     },
     "execution_count": 43,
     "metadata": {},
     "output_type": "execute_result"
    }
   ],
   "source": [
    "sentence[:3]"
   ]
  },
  {
   "cell_type": "code",
   "execution_count": 44,
   "id": "78386bb3",
   "metadata": {},
   "outputs": [
    {
     "name": "stdout",
     "output_type": "stream",
     "text": [
      "True\n"
     ]
    }
   ],
   "source": [
    "print(sentence.endswith('.'))"
   ]
  },
  {
   "cell_type": "code",
   "execution_count": 45,
   "id": "225efa70",
   "metadata": {},
   "outputs": [
    {
     "name": "stdout",
     "output_type": "stream",
     "text": [
      "8\n"
     ]
    }
   ],
   "source": [
    "print(sentence.index('pak'))"
   ]
  },
  {
   "cell_type": "code",
   "execution_count": 48,
   "id": "7e061b86",
   "metadata": {},
   "outputs": [
    {
     "name": "stdout",
     "output_type": "stream",
     "text": [
      "8\n"
     ]
    }
   ],
   "source": [
    "print(sentence.index('a'))"
   ]
  },
  {
   "cell_type": "code",
   "execution_count": 49,
   "id": "f7389341",
   "metadata": {},
   "outputs": [
    {
     "data": {
      "text/plain": [
       "'we love a pak.'"
      ]
     },
     "execution_count": 49,
     "metadata": {},
     "output_type": "execute_result"
    }
   ],
   "source": [
    "sentence = sentence.lower()\n",
    "sentence"
   ]
  },
  {
   "cell_type": "code",
   "execution_count": 50,
   "id": "a8be97d2",
   "metadata": {},
   "outputs": [
    {
     "name": "stdout",
     "output_type": "stream",
     "text": [
      "We Love A Pak. WE LOVE A PAK.\n"
     ]
    }
   ],
   "source": [
    "print(sentence.title(), sentence.upper())"
   ]
  },
  {
   "cell_type": "code",
   "execution_count": 51,
   "id": "5c86b286",
   "metadata": {},
   "outputs": [
    {
     "data": {
      "text/plain": [
       "2"
      ]
     },
     "execution_count": 51,
     "metadata": {},
     "output_type": "execute_result"
    }
   ],
   "source": [
    "sentence.count('a')"
   ]
  },
  {
   "cell_type": "code",
   "execution_count": 52,
   "id": "0b532f69",
   "metadata": {},
   "outputs": [
    {
     "data": {
      "text/plain": [
       "14"
      ]
     },
     "execution_count": 52,
     "metadata": {},
     "output_type": "execute_result"
    }
   ],
   "source": [
    "len(sentence)"
   ]
  },
  {
   "cell_type": "code",
   "execution_count": 53,
   "id": "7fe7b86a",
   "metadata": {},
   "outputs": [
    {
     "data": {
      "text/plain": [
       "False"
      ]
     },
     "execution_count": 53,
     "metadata": {},
     "output_type": "execute_result"
    }
   ],
   "source": [
    "sentence.isdigit()"
   ]
  },
  {
   "cell_type": "code",
   "execution_count": 56,
   "id": "fa3b0e3c",
   "metadata": {},
   "outputs": [
    {
     "data": {
      "text/plain": [
       "True"
      ]
     },
     "execution_count": 56,
     "metadata": {},
     "output_type": "execute_result"
    }
   ],
   "source": [
    "string = '123'\n",
    "string.isdigit()"
   ]
  },
  {
   "cell_type": "code",
   "execution_count": 58,
   "id": "d8e4b5df",
   "metadata": {},
   "outputs": [
    {
     "name": "stdout",
     "output_type": "stream",
     "text": [
      "0\n",
      "1\n",
      "2\n",
      "3\n",
      "4\n"
     ]
    }
   ],
   "source": [
    "for i in range(5):\n",
    "    print(i)"
   ]
  },
  {
   "cell_type": "code",
   "execution_count": 59,
   "id": "b63320ea",
   "metadata": {},
   "outputs": [
    {
     "name": "stdout",
     "output_type": "stream",
     "text": [
      "0\n",
      "1\n",
      "2\n",
      "3\n",
      "4\n"
     ]
    }
   ],
   "source": [
    "seq = [0,1,2,3,4]\n",
    "for i in seq:\n",
    "    print(i)\n",
    "    "
   ]
  },
  {
   "cell_type": "code",
   "execution_count": 60,
   "id": "4e378bb4",
   "metadata": {},
   "outputs": [
    {
     "name": "stdout",
     "output_type": "stream",
     "text": [
      "w\n",
      "e\n",
      " \n",
      "l\n",
      "o\n",
      "v\n",
      "e\n",
      " \n",
      "a\n",
      " \n",
      "p\n",
      "a\n",
      "k\n",
      ".\n"
     ]
    }
   ],
   "source": [
    "for char in sentence:\n",
    "    print(char)"
   ]
  },
  {
   "cell_type": "code",
   "execution_count": 61,
   "id": "2068a055",
   "metadata": {
    "collapsed": true
   },
   "outputs": [
    {
     "name": "stdout",
     "output_type": "stream",
     "text": [
      "0\n",
      "2\n",
      "4\n",
      "6\n",
      "8\n",
      "10\n",
      "12\n",
      "14\n",
      "16\n",
      "18\n",
      "20\n",
      "22\n",
      "24\n",
      "26\n",
      "28\n",
      "30\n",
      "32\n",
      "34\n",
      "36\n",
      "38\n",
      "40\n",
      "42\n",
      "44\n",
      "46\n",
      "48\n",
      "50\n",
      "52\n",
      "54\n",
      "56\n",
      "58\n",
      "60\n",
      "62\n",
      "64\n",
      "66\n",
      "68\n",
      "70\n",
      "72\n",
      "74\n",
      "76\n",
      "78\n",
      "80\n",
      "82\n",
      "84\n",
      "86\n",
      "88\n",
      "90\n",
      "92\n",
      "94\n",
      "96\n",
      "98\n"
     ]
    }
   ],
   "source": [
    "for even in range(0,100,2):\n",
    "    print(even)"
   ]
  },
  {
   "cell_type": "code",
   "execution_count": 64,
   "id": "9b2de1b6",
   "metadata": {
    "collapsed": true
   },
   "outputs": [
    {
     "name": "stdout",
     "output_type": "stream",
     "text": [
      "0\n",
      "1\n",
      "2\n",
      "3\n",
      "4\n",
      "5\n",
      "6\n",
      "7\n",
      "8\n",
      "9\n",
      "10\n",
      "11\n",
      "12\n",
      "13\n",
      "14\n",
      "15\n",
      "16\n",
      "17\n",
      "18\n",
      "19\n"
     ]
    }
   ],
   "source": [
    "a = 0\n",
    "while True:\n",
    "    print(a)\n",
    "    a+=2\n",
    "    if a==100:\n",
    "        break"
   ]
  },
  {
   "cell_type": "code",
   "execution_count": null,
   "id": "dc707bbf",
   "metadata": {},
   "outputs": [],
   "source": [
    "a = 20\n",
    "i = 0\n",
    "while i <a:\n",
    "    \n",
    "    i+=1\n",
    "    print(i)"
   ]
  },
  {
   "cell_type": "code",
   "execution_count": 67,
   "id": "f70340b1",
   "metadata": {},
   "outputs": [
    {
     "name": "stdout",
     "output_type": "stream",
     "text": [
      "Press \"Q\" exit.\n",
      "Enter a key\ts\n",
      "Predeccor word code 114  succesor word code 116 \n",
      "Press \"Q\" exit.\n",
      "Enter a key\th\n",
      "Predeccor word code 103  succesor word code 105 \n",
      "Press \"Q\" exit.\n",
      "Enter a key\tq\n"
     ]
    }
   ],
   "source": [
    "active = True\n",
    "while active:\n",
    "    print('Press \"Q\" exit.')\n",
    "    userInput = input('Enter a key\\t')\n",
    "    if userInput == 'q' or userInput == 'Q':\n",
    "        active=False\n",
    "    else:\n",
    "        print(f'Predeccor word code {ord(userInput)-1}  succesor word code {ord(userInput)+1} ')\n",
    "    "
   ]
  },
  {
   "cell_type": "code",
   "execution_count": 68,
   "id": "73581617",
   "metadata": {},
   "outputs": [
    {
     "data": {
      "text/plain": [
       "0"
      ]
     },
     "execution_count": 68,
     "metadata": {},
     "output_type": "execute_result"
    }
   ],
   "source": [
    "import random\n",
    "random.randint(0,10)"
   ]
  },
  {
   "cell_type": "code",
   "execution_count": 72,
   "id": "32b8b69e",
   "metadata": {},
   "outputs": [
    {
     "data": {
      "text/plain": [
       "4"
      ]
     },
     "execution_count": 72,
     "metadata": {},
     "output_type": "execute_result"
    }
   ],
   "source": [
    "random.randint(0,10)\n",
    "attempt = 0\n",
    "userInput\n",
    "hidnNumber = random.randint(0,10)\n"
   ]
  },
  {
   "cell_type": "code",
   "execution_count": null,
   "id": "37b3a69a",
   "metadata": {},
   "outputs": [],
   "source": []
  }
 ],
 "metadata": {
  "kernelspec": {
   "display_name": "Python 3 (ipykernel)",
   "language": "python",
   "name": "python3"
  },
  "language_info": {
   "codemirror_mode": {
    "name": "ipython",
    "version": 3
   },
   "file_extension": ".py",
   "mimetype": "text/x-python",
   "name": "python",
   "nbconvert_exporter": "python",
   "pygments_lexer": "ipython3",
   "version": "3.8.18"
  }
 },
 "nbformat": 4,
 "nbformat_minor": 5
}
