{
 "cells": [
  {
   "cell_type": "code",
   "execution_count": 11,
   "id": "09d485b7",
   "metadata": {},
   "outputs": [
    {
     "name": "stdout",
     "output_type": "stream",
     "text": [
      "enter the number for human guess! 44\n",
      "you guess wrong! the number you guessed is smaller .Guess another number: 22\n",
      "you guess wrong! the number you guessed is smaller .Guess another number: 55\n",
      "you guess wrong! the number you guessed is smaller .Guess another number: 77\n",
      "you guess wrong! the number you guessed is smaller .Guess another number: 88\n",
      "you lost the game , the attempts are 5\n"
     ]
    }
   ],
   "source": [
    "### guess game\n",
    "\n",
    "import random\n",
    "\n",
    "computer_guess = random.randint(1,100)\n",
    "activate = True\n",
    "\n",
    "\n",
    "guess = int(input(\"enter the number for human guess! \"))\n",
    "\n",
    "attempt = 1\n",
    "\n",
    "while activate :\n",
    "    if (guess > computer_guess):\n",
    "        \n",
    "        attempt+=1    \n",
    "        guess = int(input(\"you guess wrong! the number you guessed is bigger .Guess another number: \"))\n",
    "        \n",
    "        if attempt == 5:\n",
    "            print(f\"you lost the game, the attempts are {attempt}\")\n",
    "            activate = False\n",
    "        \n",
    "    elif (guess < computer_guess):\n",
    "        \n",
    "        attempt+=1    \n",
    "        guess = int(input(\"you guess wrong! the number you guessed is smaller .Guess another number: \"))\n",
    "\n",
    "        if attempt == 5:\n",
    "            print(f\"you lost the game , the attempts are {attempt}\")\n",
    "            activate = False\n",
    "    \n",
    "    else:\n",
    "        print(f\"you guess well and won the game at {attempt} attempts :\")\n",
    "        activate = False\n",
    "        \n",
    "        "
   ]
  },
  {
   "cell_type": "markdown",
   "id": "892f0491",
   "metadata": {},
   "source": []
  },
  {
   "cell_type": "code",
   "execution_count": null,
   "id": "cfd7780c",
   "metadata": {},
   "outputs": [],
   "source": []
  }
 ],
 "metadata": {
  "kernelspec": {
   "display_name": "Python 3 (ipykernel)",
   "language": "python",
   "name": "python3"
  },
  "language_info": {
   "codemirror_mode": {
    "name": "ipython",
    "version": 3
   },
   "file_extension": ".py",
   "mimetype": "text/x-python",
   "name": "python",
   "nbconvert_exporter": "python",
   "pygments_lexer": "ipython3",
   "version": "3.10.9"
  }
 },
 "nbformat": 4,
 "nbformat_minor": 5
}
