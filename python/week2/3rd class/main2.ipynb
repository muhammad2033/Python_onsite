{
 "cells": [
  {
   "cell_type": "code",
   "execution_count": 10,
   "id": "c5842e02",
   "metadata": {},
   "outputs": [
    {
     "name": "stdout",
     "output_type": "stream",
     "text": [
      "23\n",
      "30\n",
      "10\n"
     ]
    }
   ],
   "source": [
    "list = []\n"
   ]
  },
  {
   "cell_type": "code",
   "execution_count": 19,
   "id": "ad9a42d6",
   "metadata": {},
   "outputs": [
    {
     "name": "stdout",
     "output_type": "stream",
     "text": [
      "enter the list for counting..[2,3,4,2,3,4,3,2,23,3]\n",
      "<class 'str'>\n",
      "4\n"
     ]
    }
   ],
   "source": [
    "input_value = list(input(\"enter the list for counting..\"))\n",
    "print(type(input_value))\n",
    "print(input_value.count(\"2\"))"
   ]
  },
  {
   "cell_type": "code",
   "execution_count": 21,
   "id": "01a8870e",
   "metadata": {},
   "outputs": [
    {
     "data": {
      "text/plain": [
       "3"
      ]
     },
     "execution_count": 21,
     "metadata": {},
     "output_type": "execute_result"
    }
   ],
   "source": [
    "list = [2,3,4,2,3,4,3,2,23,3]\n",
    "list.count(2)\n"
   ]
  },
  {
   "cell_type": "code",
   "execution_count": null,
   "id": "95fe7e93",
   "metadata": {},
   "outputs": [],
   "source": [
    "\n",
    "#strings"
   ]
  },
  {
   "cell_type": "code",
   "execution_count": null,
   "id": "12d1d707",
   "metadata": {},
   "outputs": [],
   "source": [
    "# list1 = [5,6,7,8,9]\n",
    "for l1 , l2 in enumerate(list1):\n",
    "    print(l1 , l2)"
   ]
  },
  {
   "cell_type": "code",
   "execution_count": 12,
   "id": "139139e4",
   "metadata": {},
   "outputs": [
    {
     "name": "stdout",
     "output_type": "stream",
     "text": [
      "printable string {'name': 'maaz', 'age': 25, 'class': 'python'}\n"
     ]
    }
   ],
   "source": [
    "# Dictionary\n",
    "\n",
    "dict = {\"name\":\"maaz\",\"age\":25,\"class\":\"python\"}\n",
    "\n",
    "\n",
    "print(\"printable string %s\" % str(dict))\n",
    "\n",
    "# it is used to print the string representation of a dictionary "
   ]
  },
  {
   "cell_type": "code",
   "execution_count": 11,
   "id": "9a720565",
   "metadata": {},
   "outputs": [
    {
     "name": "stdout",
     "output_type": "stream",
     "text": [
      "len of the dictionary: 3\n"
     ]
    }
   ],
   "source": [
    "dict = {\"name\":\"maaz\",\"age\":25,\"class\":\"python\"}\n",
    "\n",
    "print(\"len of the dictionary:\",len(dict))\n",
    "\n",
    "# it is used to calculate the total keys in the dictionary "
   ]
  },
  {
   "cell_type": "code",
   "execution_count": 13,
   "id": "16ca4922",
   "metadata": {},
   "outputs": [
    {
     "name": "stdout",
     "output_type": "stream",
     "text": [
      " new dictionary : {'Zara': None, 'Name': None, 'Age': None}\n",
      " new dictionary : {'Zara': 30, 'Name': 30, 'Age': 30}\n"
     ]
    }
   ],
   "source": [
    "seq = {'Name', 'Zara', 'Age'}\n",
    "\n",
    "dict = dict.fromkeys(seq)\n",
    "\n",
    "print(\" new dictionary :\",dict) # none value will be assigned to the dictionary by default \n",
    "\n",
    "\n",
    "seq = {'Name', 'Zara', 'Age'}\n",
    "\n",
    "dict = dict.fromkeys(seq,30) # 30 values will be assigned to the dictionary\n",
    "\n",
    "print(\" new dictionary :\",dict)\n",
    "\n"
   ]
  },
  {
   "cell_type": "code",
   "execution_count": 14,
   "id": "e29df873",
   "metadata": {},
   "outputs": [
    {
     "name": "stdout",
     "output_type": "stream",
     "text": [
      " return the value for the given key:  7\n",
      " return the value for the given key:  maaz\n",
      " return the value for the given key:  None\n"
     ]
    }
   ],
   "source": [
    "dict = {'Name': 'maaz' , \"hy\" : 'Zara', 'Age': 7} \n",
    "\n",
    "print (\" return the value for the given key: \",dict.get('Age',None)) #7\n",
    "\n",
    "print (\" return the value for the given key: \",dict.get('Name',None)) # maaz\n",
    "\n",
    "print (\" return the value for the given key: \",dict.get('where',None)) # none ,coz the  key(where) is not in the dictionary\n",
    "\n",
    "# it is quite similar to the get(), it is used to return the key' value in the dictionary if it is not present in the\n",
    "# list , so it will return the default None \n",
    "\n",
    "# so it takes two arguments one will be default None"
   ]
  },
  {
   "cell_type": "code",
   "execution_count": 15,
   "id": "db825ecb",
   "metadata": {},
   "outputs": [
    {
     "name": "stdout",
     "output_type": "stream",
     "text": [
      " after copying the dict : {'Name': 'Zara', 'Age': 7}\n"
     ]
    }
   ],
   "source": [
    "dict = {'Name': 'Zara', 'Age': 7} \n",
    "\n",
    "dict2 = dict.copy()\n",
    "\n",
    "print(\" after copying the dict :\",dict2)\n",
    "\n",
    "# it is used to copy the given dict into another dict2 "
   ]
  },
  {
   "cell_type": "markdown",
   "id": "98c7244f",
   "metadata": {},
   "source": [
    "#    ### tuple\n",
    "    "
   ]
  },
  {
   "cell_type": "code",
   "execution_count": 16,
   "id": "2d11c951",
   "metadata": {},
   "outputs": [
    {
     "name": "stdout",
     "output_type": "stream",
     "text": [
      "the repetition : maaz maaz maaz maaz maaz \n"
     ]
    }
   ],
   "source": [
    "tuple1 = (\"maaz \")\n",
    "\n",
    "tuple2 = 5\n",
    "\n",
    "tuple3 = tuple1*tuple2\n",
    "\n",
    "print(\"the repetition :\",tuple3)\n",
    "\n",
    "# it is used to repeat the given tuples \n",
    "\n",
    "# each element can be repeated in tuple ,just multiplying the tuple2 with tuple1 "
   ]
  },
  {
   "cell_type": "code",
   "execution_count": 17,
   "id": "3ab973f4",
   "metadata": {},
   "outputs": [
    {
     "name": "stdout",
     "output_type": "stream",
     "text": [
      " finding th element in the given tuple: True\n"
     ]
    }
   ],
   "source": [
    "tuple = (1,2,3,4,5,6)\n",
    "\n",
    "print(\" finding th element in the given tuple:\",5 in tuple)\n",
    "\n",
    "# it returns true or false ,when the element exists in the tuple ,so it returns true ,otherwise false "
   ]
  },
  {
   "cell_type": "code",
   "execution_count": 18,
   "id": "7f6b6eb0",
   "metadata": {},
   "outputs": [
    {
     "name": "stdout",
     "output_type": "stream",
     "text": [
      "concatenate the tuple with tuple1 : ('maaaz', 'yes', 'no', 2, 3, 4, 5, 7, 8, 9, 'a', 'b', 1, 2, 3, 4, 5, 'khan', 'where')\n"
     ]
    }
   ],
   "source": [
    "tuple = (\"maaaz\",\"yes\",\"no\",2,3,4,5,7,8,9,'a','b')\n",
    "\n",
    "tuple1 = (1,2,3,4,5,\"khan\",\"where\")\n",
    "\n",
    "print(\"concatenate the tuple with tuple1 :\",tuple+tuple1)\n",
    "\n",
    "# its used to concatenate the given tuples "
   ]
  },
  {
   "cell_type": "code",
   "execution_count": 19,
   "id": "14d8cdc6",
   "metadata": {},
   "outputs": [
    {
     "name": "stdout",
     "output_type": "stream",
     "text": [
      "len(tuple): 12\n"
     ]
    }
   ],
   "source": [
    "tuple = (\"maaaz\",\"yes\",\"no\",2,3,4,5,7,8,9,'a','b')\n",
    "\n",
    "print(\"len(tuple):\",len(tuple))\n",
    "\n",
    "# it is used to count the total elements from the tuple \n"
   ]
  },
  {
   "cell_type": "code",
   "execution_count": 1,
   "id": "91476f63",
   "metadata": {},
   "outputs": [
    {
     "name": "stdout",
     "output_type": "stream",
     "text": [
      "Help on function add in module __main__:\n",
      "\n",
      "add(a, b)\n",
      "    This function takes two numbers as input and returns their sum.\n",
      "    \n",
      "    Parameters:\n",
      "    a (int or float): The first number.\n",
      "    b (int or float): The second number.\n",
      "    \n",
      "    Returns:\n",
      "    int or float: The sum of a and b.\n",
      "\n",
      "\n",
      "    This function takes two numbers as input and returns their sum.\n",
      "\n",
      "    Parameters:\n",
      "    a (int or float): The first number.\n",
      "    b (int or float): The second number.\n",
      "\n",
      "    Returns:\n",
      "    int or float: The sum of a and b.\n",
      "    \n"
     ]
    }
   ],
   "source": [
    "# function\n",
    "\n",
    "def add(a, b):\n",
    "    \"\"\"\n",
    "    This function takes two numbers as input and returns their sum.\n",
    "\n",
    "    Parameters:\n",
    "    a (int or float): The first number.\n",
    "    b (int or float): The second number.\n",
    "\n",
    "    Returns:\n",
    "    int or float: The sum of a and b.\n",
    "    \"\"\"\n",
    "    return a + b\n",
    "help(add)\n",
    "print(add.__doc__)\n"
   ]
  },
  {
   "cell_type": "code",
   "execution_count": 2,
   "id": "999a8f94",
   "metadata": {},
   "outputs": [
    {
     "data": {
      "text/plain": [
       "9"
      ]
     },
     "execution_count": 2,
     "metadata": {},
     "output_type": "execute_result"
    }
   ],
   "source": [
    "def square(a):\n",
    "    return a*a\n",
    "\n",
    "square(3)\n",
    "    "
   ]
  },
  {
   "cell_type": "code",
   "execution_count": 3,
   "id": "8cf1239d",
   "metadata": {},
   "outputs": [
    {
     "data": {
      "text/plain": [
       "10.0"
      ]
     },
     "execution_count": 3,
     "metadata": {},
     "output_type": "execute_result"
    }
   ],
   "source": [
    "def numbers(a,b,c ,d):\n",
    "    average = (a+b+c+d/4)\n",
    "    return average\n",
    "\n",
    "numbers(2,3,4,4)"
   ]
  },
  {
   "cell_type": "code",
   "execution_count": 1,
   "id": "ba979929",
   "metadata": {},
   "outputs": [
    {
     "data": {
      "text/plain": [
       "0.4"
      ]
     },
     "execution_count": 1,
     "metadata": {},
     "output_type": "execute_result"
    }
   ],
   "source": [
    "def function(*args):\n",
    "    for sum in args:\n",
    "        \n",
    "        ave = (sum/5)\n",
    "        return ave\n",
    "function(2,3,4,5,3)\n",
    "    \n",
    "#     homework  *args and **kwargs"
   ]
  },
  {
   "cell_type": "code",
   "execution_count": 5,
   "id": "4b6a1389",
   "metadata": {},
   "outputs": [
    {
     "name": "stdout",
     "output_type": "stream",
     "text": [
      "enter the amount:2\n",
      "enter the amount for currency:such as,euro euro\n",
      "enter the amount for currency:such as,pkr inr\n",
      "the currency is not existed!\n",
      "do another convertion? yes , no \n",
      "yes\n",
      "the currency is not existed!\n",
      "enter the amount:2\n",
      "enter the amount for currency:such as,euro euro \n",
      "enter the amount for currency:such as,pkr usd\n",
      "the currency is not existed!\n",
      "do another convertion? yes , no \n",
      "2\n",
      "stop the function\n"
     ]
    }
   ],
   "source": [
    "exchange_rates = {\n",
    "    \n",
    "    \"euro\":1,\n",
    "    \"pkr\":330,\n",
    "    \"Inr\":110,\n",
    "    \"usd\":0.33\n",
    "}\n",
    "\n",
    "def currency(amount , fromcurrency , tocurrency):\n",
    "    if fromcurrency in exchange_rates and tocurrency in exchange_rates:\n",
    "        rate = exchange_rates[tocurrency]/exchange_rates[fromcurrency]\n",
    "        return rate*amount\n",
    "    else:\n",
    "        return \"the currency is not existed!\"\n",
    "    \n",
    "# currency(1,'euro', 'pkr')\n",
    "    \n",
    "while True:\n",
    "    \n",
    "    amount = float (input(\"enter the amount:\"))\n",
    "    fromcurrency = str (input(\"enter the amount for currency:such as,euro \"))\n",
    "    tocurrency = str (input(\"enter the amount for currency:such as,pkr \"))\n",
    "    \n",
    "    result = currency(amount , fromcurrency , tocurrency)\n",
    "    if isinstance(result,(int , float)):\n",
    "        print(f\"{amount} in {fromcurrency} is equal {result} in {tocurrency}.\")    \n",
    "    else:\n",
    "        print(result)\n",
    "              \n",
    "    stopTheFunction = input(\"do another convertion? yes , no \\n\").lower()\n",
    "    if stopTheFunction =='yes':\n",
    "        print(result)\n",
    "    else:\n",
    "        print(\"stop the function\")\n",
    "        break\n",
    "\n",
    "\n"
   ]
  },
  {
   "cell_type": "code",
   "execution_count": 7,
   "id": "d1ab93f0",
   "metadata": {},
   "outputs": [
    {
     "data": {
      "text/plain": [
       "720"
      ]
     },
     "execution_count": 7,
     "metadata": {},
     "output_type": "execute_result"
    }
   ],
   "source": [
    "import math\n",
    "def factorial(number):\n",
    "    fac = math.factorial(number)\n",
    "    return fac\n",
    "\n",
    "factorial(6)    \n",
    "    \n"
   ]
  },
  {
   "cell_type": "code",
   "execution_count": null,
   "id": "66e2920a",
   "metadata": {},
   "outputs": [],
   "source": [
    "?"
   ]
  }
 ],
 "metadata": {
  "kernelspec": {
   "display_name": "Python 3 (ipykernel)",
   "language": "python",
   "name": "python3"
  },
  "language_info": {
   "codemirror_mode": {
    "name": "ipython",
    "version": 3
   },
   "file_extension": ".py",
   "mimetype": "text/x-python",
   "name": "python",
   "nbconvert_exporter": "python",
   "pygments_lexer": "ipython3",
   "version": "3.10.9"
  }
 },
 "nbformat": 4,
 "nbformat_minor": 5
}
