{
 "cells": [
  {
   "cell_type": "code",
   "execution_count": 3,
   "id": "e9a29940",
   "metadata": {},
   "outputs": [
    {
     "name": "stdout",
     "output_type": "stream",
     "text": [
      "W\n",
      "e\n",
      " \n",
      "a\n",
      "r\n",
      "e\n",
      " \n",
      "P\n",
      "a\n",
      "k\n",
      "i\n",
      "s\n",
      "t\n",
      "a\n",
      "n\n",
      "i\n"
     ]
    }
   ],
   "source": [
    "myString = 'We are Pakistani'\n",
    "for char in myString:\n",
    "    print(char)"
   ]
  },
  {
   "cell_type": "code",
   "execution_count": null,
   "id": "3f565e80",
   "metadata": {},
   "outputs": [],
   "source": [
    "\"\"\"\n",
    "List, [dyamic, hetrogenious, iterable, mutable, index, duplicate allow, order]\n",
    "dictionary --> key-value pair {dynamic,mutable, key, duplicate allow(values), unorder} \n",
    "Tuple, (immutable,duplicate not allow)\n",
    "Set, {immutable, duplicate not allow}\n",
    "\n",
    "\"\"\""
   ]
  },
  {
   "cell_type": "code",
   "execution_count": 4,
   "id": "7f1739f8",
   "metadata": {},
   "outputs": [
    {
     "name": "stdout",
     "output_type": "stream",
     "text": [
      "[10, 11, 12, 13, 14]\n",
      "<class 'list'>\n"
     ]
    }
   ],
   "source": [
    "myList = [10,11,12,13,14]\n",
    "print(myList)\n",
    "print(type(myList))"
   ]
  },
  {
   "cell_type": "code",
   "execution_count": 5,
   "id": "609e98df",
   "metadata": {},
   "outputs": [],
   "source": [
    "emptyList = []\n",
    "myList2 = list([22,23,24])\n"
   ]
  },
  {
   "cell_type": "code",
   "execution_count": 6,
   "id": "d13d5480",
   "metadata": {},
   "outputs": [
    {
     "name": "stdout",
     "output_type": "stream",
     "text": [
      "khan 20\n",
      "Student Name:khan and marks is 10\n",
      "Student Name khan, and marks is 10\n"
     ]
    }
   ],
   "source": [
    "sName = ['khan', 'ali', 'aslam']\n",
    "marks = [10,20, 30]\n",
    "print(sName[0], marks[1])\n",
    "print('Student Name:'+ sName[0]+ ' and marks is '+ str(marks[0]))\n",
    "print(f'Student Name {sName[0]}, and marks is {str(marks[0])}')"
   ]
  },
  {
   "cell_type": "code",
   "execution_count": 7,
   "id": "e85f8b41",
   "metadata": {},
   "outputs": [
    {
     "data": {
      "text/plain": [
       "{'Khan': 10, 'ali': 20, 'aslam': 30}"
      ]
     },
     "execution_count": 7,
     "metadata": {},
     "output_type": "execute_result"
    }
   ],
   "source": [
    "myDict = { 'Khan':10,\n",
    "          'ali': 20,\n",
    "          'aslam':30\n",
    "}\n",
    "myDict"
   ]
  },
  {
   "cell_type": "code",
   "execution_count": 8,
   "id": "d1d8f08f",
   "metadata": {},
   "outputs": [
    {
     "data": {
      "text/plain": [
       "30"
      ]
     },
     "execution_count": 8,
     "metadata": {},
     "output_type": "execute_result"
    }
   ],
   "source": [
    "myDict['aslam']"
   ]
  },
  {
   "cell_type": "code",
   "execution_count": 9,
   "id": "4c0294d8",
   "metadata": {},
   "outputs": [],
   "source": [
    "myDict2 = dict(\n",
    "        {'Khan':10,\n",
    "          'ali': 20,\n",
    "          'aslam':30}\n",
    ")"
   ]
  },
  {
   "cell_type": "code",
   "execution_count": 26,
   "id": "7fc8ca42",
   "metadata": {},
   "outputs": [],
   "source": [
    "strings = ['Hello', 'world', 'to', 'python']"
   ]
  },
  {
   "cell_type": "markdown",
   "id": "59713381",
   "metadata": {},
   "source": [
    "### list methods:\n",
    "    1. append\n",
    "    2. extend\n",
    "    3. count\n",
    "    4. sort,\n",
    "    5. insert\n",
    "    6.remove\n",
    "    7.pop\n",
    "    ..."
   ]
  },
  {
   "cell_type": "code",
   "execution_count": 27,
   "id": "256ad2b6",
   "metadata": {},
   "outputs": [
    {
     "data": {
      "text/plain": [
       "['Hello', 'world', 'to', 'python']"
      ]
     },
     "execution_count": 27,
     "metadata": {},
     "output_type": "execute_result"
    }
   ],
   "source": [
    "strings"
   ]
  },
  {
   "cell_type": "code",
   "execution_count": 28,
   "id": "e0daccd2",
   "metadata": {},
   "outputs": [
    {
     "name": "stdout",
     "output_type": "stream",
     "text": [
      "['Hello', 'world', 'to', 'python', 'programming']\n"
     ]
    }
   ],
   "source": [
    "strings.append('programming')\n",
    "print(strings)"
   ]
  },
  {
   "cell_type": "code",
   "execution_count": 33,
   "id": "fc294808",
   "metadata": {},
   "outputs": [],
   "source": [
    "strings.insert(0, 'wElcome')"
   ]
  },
  {
   "cell_type": "code",
   "execution_count": 34,
   "id": "331e943a",
   "metadata": {},
   "outputs": [
    {
     "name": "stdout",
     "output_type": "stream",
     "text": [
      "['wElcome', 'welcome', 'Hello', 'world', 'to', 'python', 'programming']\n"
     ]
    }
   ],
   "source": [
    "print(strings)"
   ]
  },
  {
   "cell_type": "code",
   "execution_count": 37,
   "id": "d0678caf",
   "metadata": {},
   "outputs": [
    {
     "name": "stdout",
     "output_type": "stream",
     "text": [
      "Char: E Vowel occured in string wElcome\n",
      "Char: o Vowel occured in string wElcome\n",
      "Char: e Vowel occured in string wElcome\n",
      "Char: e Vowel occured in string welcome\n",
      "Char: o Vowel occured in string welcome\n",
      "Char: e Vowel occured in string welcome\n",
      "Char: e Vowel occured in string Hello\n",
      "Char: o Vowel occured in string Hello\n",
      "Char: o Vowel occured in string world\n",
      "Char: o Vowel occured in string to\n",
      "Char: o Vowel occured in string python\n",
      "Char: o Vowel occured in string programming\n",
      "Char: a Vowel occured in string programming\n",
      "Char: i Vowel occured in string programming\n"
     ]
    }
   ],
   "source": [
    "vowels = 'aeiou'\n",
    "for string in strings:\n",
    "    for char in string:\n",
    "        if char.lower() in vowels:\n",
    "            print(f'Char: {char} Vowel occured in string {string}')"
   ]
  },
  {
   "cell_type": "code",
   "execution_count": 14,
   "id": "e1801e71",
   "metadata": {},
   "outputs": [
    {
     "name": "stdout",
     "output_type": "stream",
     "text": [
      "[1, 2, 3] [1, 2, 3]\n",
      "[3, 2, 1] [1, 2, 3]\n",
      "[2, 4, 6] [1, 2, 3]\n"
     ]
    }
   ],
   "source": [
    "a = [1,2,3]\n",
    "b = [3,2,1]\n",
    "c = [2,4,6]\n",
    "listoflist = [a,b , c]\n",
    "for slist in listoflist:\n",
    "    print(slist, a)\n",
    "    "
   ]
  },
  {
   "cell_type": "code",
   "execution_count": 2,
   "id": "c2760daf",
   "metadata": {},
   "outputs": [
    {
     "name": "stdout",
     "output_type": "stream",
     "text": [
      "66\n"
     ]
    }
   ],
   "source": [
    "aslam_marks = [[5,6], [4,6], [15, 20]]\n",
    "sumofMarks = 0\n",
    "for sublist in aslam_marks:\n",
    "    for singeMarks in sublist:\n",
    "        sumofMarks+=singeMarks\n",
    "        \n",
    "if sumofMarks<70:\n",
    "    sumofMarks+=10\n",
    "print(sumofMarks)\n",
    "    "
   ]
  },
  {
   "cell_type": "markdown",
   "id": "055b9cfc",
   "metadata": {},
   "source": [
    "# Class Task\n",
    "### 1. find the sum of numbers in a list.\n",
    "### 2. count the occurances of elements.\n",
    "### 3 . flatten the list"
   ]
  },
  {
   "cell_type": "code",
   "execution_count": 57,
   "id": "d354b10a",
   "metadata": {},
   "outputs": [],
   "source": [
    "myList = [1,2,2,3,3,3,4,4,4,4, 5,5,5,5, 7,7,7]"
   ]
  },
  {
   "cell_type": "code",
   "execution_count": 45,
   "id": "e59cc6c5",
   "metadata": {},
   "outputs": [],
   "source": [
    "matrix = [\n",
    "    [1,2,3],\n",
    "    [3,2,1],\n",
    "    [4,5,6]\n",
    "]\n",
    "\n",
    "#create a flatten list\n",
    "#traverse for 2d\n",
    "    #traverse for scaler\n",
    "    #append to the flatten lsit"
   ]
  },
  {
   "cell_type": "code",
   "execution_count": 11,
   "id": "cdf1cc6d",
   "metadata": {},
   "outputs": [
    {
     "name": "stdout",
     "output_type": "stream",
     "text": [
      "Value: 10 occured 1\n",
      "Value: 10 occured 1\n",
      "Value: 11 occured 1\n",
      "Value: 10 occured 1\n",
      "Value: 11 occured 1\n",
      "Value: 12 occured 1\n",
      "Value: 10 occured 1\n",
      "Value: 11 occured 1\n",
      "Value: 12 occured 1\n",
      "Value: 13 occured 1\n",
      "Value: 10 occured 1\n",
      "Value: 11 occured 1\n",
      "Value: 12 occured 1\n",
      "Value: 13 occured 1\n",
      "Value: 14 occured 1\n"
     ]
    }
   ],
   "source": [
    "uniqValue = []\n",
    "for value in myList:\n",
    "    if value in uniqValue:\n",
    "        pass                \n",
    "    else:\n",
    "        uniqValue.append(value)\n",
    "for uniqVal in uniqValue:\n",
    "    print(f'Value: {uniqVal} occured {myList.count(uniqVal)}')"
   ]
  },
  {
   "cell_type": "code",
   "execution_count": 59,
   "id": "6276dedf",
   "metadata": {},
   "outputs": [
    {
     "name": "stdout",
     "output_type": "stream",
     "text": [
      "1 5\n",
      "2 4\n",
      "3 3\n",
      "4 2\n",
      "5 1\n"
     ]
    }
   ],
   "source": [
    "list1, list2 = [1,2,3,4,5], [5,4,3,2,1]\n",
    "for l1, l2 in zip(list1, list2):\n",
    "    print(l1, l2)"
   ]
  },
  {
   "cell_type": "code",
   "execution_count": 61,
   "id": "21eb7e56",
   "metadata": {},
   "outputs": [
    {
     "name": "stdout",
     "output_type": "stream",
     "text": [
      "2\n"
     ]
    }
   ],
   "source": [
    "data = ['Khan', 'Ali', 'Aslam', 'Kamal']\n",
    "for index, value in enumerate(data):\n",
    "    if 'Aslam' in value:\n",
    "        print(index)"
   ]
  },
  {
   "cell_type": "code",
   "execution_count": null,
   "id": "e91e2ea8",
   "metadata": {},
   "outputs": [],
   "source": []
  },
  {
   "cell_type": "code",
   "execution_count": null,
   "id": "010655a2",
   "metadata": {},
   "outputs": [],
   "source": []
  },
  {
   "cell_type": "code",
   "execution_count": null,
   "id": "b5317921",
   "metadata": {},
   "outputs": [],
   "source": []
  },
  {
   "cell_type": "markdown",
   "id": "e4c8cdb6",
   "metadata": {},
   "source": [
    "### dictionary methods\n",
    "1. update\n",
    "2. items\n",
    "3. keys\n",
    "4. values()\n",
    "5. get\n"
   ]
  },
  {
   "cell_type": "code",
   "execution_count": 95,
   "id": "6746728a",
   "metadata": {},
   "outputs": [
    {
     "data": {
      "text/plain": [
       "dict_keys(['Ali', 'Khan', 'Kamal'])"
      ]
     },
     "execution_count": 95,
     "metadata": {},
     "output_type": "execute_result"
    }
   ],
   "source": [
    "result = {\n",
    "    'Ali': 10,\n",
    "    'Khan':20,\n",
    "    'Kamal': 50\n",
    "}\n",
    "result.keys()"
   ]
  },
  {
   "cell_type": "code",
   "execution_count": 63,
   "id": "c6086a25",
   "metadata": {},
   "outputs": [
    {
     "data": {
      "text/plain": [
       "dict_values([10, 20, 50])"
      ]
     },
     "execution_count": 63,
     "metadata": {},
     "output_type": "execute_result"
    }
   ],
   "source": [
    "result.values()"
   ]
  },
  {
   "cell_type": "code",
   "execution_count": 64,
   "id": "630f0edc",
   "metadata": {},
   "outputs": [
    {
     "data": {
      "text/plain": [
       "dict_items([('Ali', 10), ('Khan', 20), ('Kamal', 50)])"
      ]
     },
     "execution_count": 64,
     "metadata": {},
     "output_type": "execute_result"
    }
   ],
   "source": [
    "result.items()"
   ]
  },
  {
   "cell_type": "code",
   "execution_count": 65,
   "id": "d028f0a0",
   "metadata": {},
   "outputs": [
    {
     "data": {
      "text/plain": [
       "10"
      ]
     },
     "execution_count": 65,
     "metadata": {},
     "output_type": "execute_result"
    }
   ],
   "source": [
    "result['Ali']"
   ]
  },
  {
   "cell_type": "code",
   "execution_count": 66,
   "id": "0490fa62",
   "metadata": {},
   "outputs": [],
   "source": [
    "result = {\n",
    "    'Khan': [2.0,2.5,3.0,3],\n",
    "    'Ali': [3.0,2.5,3.5,4]\n",
    "    \n",
    "}"
   ]
  },
  {
   "cell_type": "code",
   "execution_count": 67,
   "id": "6ffdc8b4",
   "metadata": {},
   "outputs": [
    {
     "data": {
      "text/plain": [
       "[3.0, 2.5, 3.5, 4]"
      ]
     },
     "execution_count": 67,
     "metadata": {},
     "output_type": "execute_result"
    }
   ],
   "source": [
    "result['Ali']"
   ]
  },
  {
   "cell_type": "code",
   "execution_count": 73,
   "id": "72e4fc7a",
   "metadata": {},
   "outputs": [],
   "source": [
    "result['Jamal'] = 60"
   ]
  },
  {
   "cell_type": "code",
   "execution_count": 77,
   "id": "1567e051",
   "metadata": {},
   "outputs": [],
   "source": [
    "result.update({'khan':60})"
   ]
  },
  {
   "cell_type": "code",
   "execution_count": 78,
   "id": "fa9e90be",
   "metadata": {},
   "outputs": [
    {
     "data": {
      "text/plain": [
       "{'Ali': 10, 'Khan': 60, 'Kamal': 50, 'Jamal': 60, 'khan': 60}"
      ]
     },
     "execution_count": 78,
     "metadata": {},
     "output_type": "execute_result"
    }
   ],
   "source": [
    "result"
   ]
  },
  {
   "cell_type": "code",
   "execution_count": 79,
   "id": "567a01b3",
   "metadata": {},
   "outputs": [
    {
     "data": {
      "text/plain": [
       "{'Ali': 10, 'Khan': 60, 'Kamal': 50, 'Jamal': 60, 'khan': 60}"
      ]
     },
     "execution_count": 79,
     "metadata": {},
     "output_type": "execute_result"
    }
   ],
   "source": [
    "result"
   ]
  },
  {
   "cell_type": "code",
   "execution_count": 82,
   "id": "f3596ba5",
   "metadata": {},
   "outputs": [
    {
     "name": "stdout",
     "output_type": "stream",
     "text": [
      "60\n",
      "60\n"
     ]
    }
   ],
   "source": [
    "for key in result.keys():\n",
    "    if 'khan' in key.lower():\n",
    "        print(result[key])"
   ]
  },
  {
   "cell_type": "code",
   "execution_count": 85,
   "id": "02535ce4",
   "metadata": {},
   "outputs": [
    {
     "name": "stdout",
     "output_type": "stream",
     "text": [
      "20\n",
      "70\n",
      "60\n",
      "70\n",
      "70\n"
     ]
    }
   ],
   "source": [
    "for value in result.values():\n",
    "    if value<70:\n",
    "        print(value+10)"
   ]
  },
  {
   "cell_type": "code",
   "execution_count": 99,
   "id": "52fe7067",
   "metadata": {},
   "outputs": [
    {
     "name": "stdout",
     "output_type": "stream",
     "text": [
      "30\n",
      "Ali\n",
      "30\n",
      "40\n",
      "30\n",
      "Khan\n",
      "30\n",
      "40\n"
     ]
    }
   ],
   "source": [
    "for key, value in result.items():\n",
    "    if value<50:\n",
    "        print(value)\n",
    "        print(key)\n",
    "        print(result[key])\n",
    "        result[key] +=10\n",
    "        print(result[key])"
   ]
  },
  {
   "cell_type": "code",
   "execution_count": 89,
   "id": "c30ad043",
   "metadata": {},
   "outputs": [
    {
     "data": {
      "text/plain": [
       "{'Ali': 30, 'Khan': 60, 'Kamal': 50, 'Jamal': 60, 'khan': 60}"
      ]
     },
     "execution_count": 89,
     "metadata": {},
     "output_type": "execute_result"
    }
   ],
   "source": [
    "result[]"
   ]
  },
  {
   "cell_type": "code",
   "execution_count": 91,
   "id": "eefa66dc",
   "metadata": {},
   "outputs": [
    {
     "data": {
      "text/plain": [
       "40"
      ]
     },
     "execution_count": 91,
     "metadata": {},
     "output_type": "execute_result"
    }
   ],
   "source": [
    "result['Ali']+10"
   ]
  },
  {
   "cell_type": "code",
   "execution_count": null,
   "id": "cae62b14",
   "metadata": {},
   "outputs": [],
   "source": []
  }
 ],
 "metadata": {
  "kernelspec": {
   "display_name": "Python 3 (ipykernel)",
   "language": "python",
   "name": "python3"
  },
  "language_info": {
   "codemirror_mode": {
    "name": "ipython",
    "version": 3
   },
   "file_extension": ".py",
   "mimetype": "text/x-python",
   "name": "python",
   "nbconvert_exporter": "python",
   "pygments_lexer": "ipython3",
   "version": "3.10.9"
  }
 },
 "nbformat": 4,
 "nbformat_minor": 5
}
