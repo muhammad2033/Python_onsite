{
 "cells": [
  {
   "cell_type": "code",
   "execution_count": 8,
   "id": "3731f3c5",
   "metadata": {},
   "outputs": [
    {
     "data": {
      "text/plain": [
       "[{'category': 'A', 'Value': 10},\n",
       " {'category': 'B', 'Value': 50},\n",
       " {'category': 'C', 'Value': 20},\n",
       " {'category': 'A', 'Value': 60},\n",
       " {'category': 'D', 'Value': 15},\n",
       " {'category': 'B', 'Value': 30},\n",
       " {'category': 'B', 'Value': 30}]"
      ]
     },
     "execution_count": 8,
     "metadata": {},
     "output_type": "execute_result"
    }
   ],
   "source": [
    "data = [\n",
    "    {'category': 'A', 'Value': 10},\n",
    "    {'category': 'B', 'Value': 50},\n",
    "    {'category': 'C', 'Value': 20},\n",
    "    {'category': 'A', 'Value': 60},\n",
    "    {'category': 'D', 'Value': 15},\n",
    "    {'category': 'B', 'Value': 30,},\n",
    "    {'category': 'B', 'Value': 30, },\n",
    "]\n",
    "categorySum = {}\n",
    "data"
   ]
  },
  {
   "cell_type": "code",
   "execution_count": 7,
   "id": "497cc00e",
   "metadata": {},
   "outputs": [
    {
     "data": {
      "text/plain": [
       "{'A': 70, 'B': 110, 'C': 20, 'D': 15}"
      ]
     },
     "execution_count": 7,
     "metadata": {},
     "output_type": "execute_result"
    }
   ],
   "source": [
    "for entry in data:\n",
    "    category = entry['category']\n",
    "    value = entry['Value']\n",
    "    if category in categorySum:\n",
    "        categorySum[category] =categorySum[category]+ value\n",
    "    else:\n",
    "        categorySum[category] = value\n",
    "categorySum"
   ]
  },
  {
   "cell_type": "code",
   "execution_count": 9,
   "id": "bbad7076",
   "metadata": {},
   "outputs": [],
   "source": [
    "# def function(parameter):\n",
    "#     identation\n",
    "# ctrl+?"
   ]
  },
  {
   "cell_type": "code",
   "execution_count": 13,
   "id": "3baebb99",
   "metadata": {},
   "outputs": [],
   "source": [
    "def Customsum(a, b):\n",
    "    \"\"\"\n",
    "    inputs: a--> int, float\n",
    "            b --> int, float\n",
    "    ret: result after a+b\n",
    "    \"\"\"\n",
    "    c = a+b\n",
    "    print(c)"
   ]
  },
  {
   "cell_type": "code",
   "execution_count": 11,
   "id": "1ec5d347",
   "metadata": {},
   "outputs": [
    {
     "name": "stdout",
     "output_type": "stream",
     "text": [
      "30\n"
     ]
    }
   ],
   "source": [
    "Customsum(10,20)"
   ]
  },
  {
   "cell_type": "code",
   "execution_count": 15,
   "id": "458c83ae",
   "metadata": {},
   "outputs": [],
   "source": [
    "# lambda parameter: expression\n",
    "xfunction = lambda a, b: a+b"
   ]
  },
  {
   "cell_type": "code",
   "execution_count": 16,
   "id": "c52d5652",
   "metadata": {},
   "outputs": [
    {
     "data": {
      "text/plain": [
       "30"
      ]
     },
     "execution_count": 16,
     "metadata": {},
     "output_type": "execute_result"
    }
   ],
   "source": [
    "xfunction(10,20)"
   ]
  },
  {
   "cell_type": "code",
   "execution_count": 19,
   "id": "499b0e89",
   "metadata": {},
   "outputs": [
    {
     "data": {
      "text/plain": [
       "0"
      ]
     },
     "execution_count": 19,
     "metadata": {},
     "output_type": "execute_result"
    }
   ],
   "source": [
    "string = 'abcdabc'\n",
    "string.index('a', )"
   ]
  },
  {
   "cell_type": "code",
   "execution_count": 20,
   "id": "e51237db",
   "metadata": {},
   "outputs": [],
   "source": [
    "def stringIndex(string, char):\n",
    "    indics = []\n",
    "    for index, character in enumerate(string):\n",
    "        if character == char:\n",
    "            indics.append(index)\n",
    "    print(indics)\n",
    "        "
   ]
  },
  {
   "cell_type": "code",
   "execution_count": 22,
   "id": "6ac8bd72",
   "metadata": {},
   "outputs": [
    {
     "name": "stdout",
     "output_type": "stream",
     "text": [
      "[0, 1, 2, 3, 10, 11, 12]\n"
     ]
    }
   ],
   "source": [
    "stringIndex('aaaabbbbccaaa', 'a')"
   ]
  },
  {
   "cell_type": "code",
   "execution_count": 25,
   "id": "1132c232",
   "metadata": {},
   "outputs": [],
   "source": [
    "def stringIndex(string, char = 'd'):\n",
    "    \"\"\"\n",
    "    param: string required.\n",
    "    char--> optional, defualt,  a\n",
    "    \n",
    "    \"\"\"\n",
    "    indics = []\n",
    "    for index, character in enumerate(string):\n",
    "        if character == char:\n",
    "            indics.append(index)\n",
    "    print(indics)"
   ]
  },
  {
   "cell_type": "code",
   "execution_count": 28,
   "id": "faf0bd68",
   "metadata": {},
   "outputs": [
    {
     "name": "stdout",
     "output_type": "stream",
     "text": [
      "[6]\n"
     ]
    }
   ],
   "source": [
    "stringIndex('abcedfg', 'g')"
   ]
  },
  {
   "cell_type": "code",
   "execution_count": 30,
   "id": "3bac71df",
   "metadata": {},
   "outputs": [
    {
     "ename": "SyntaxError",
     "evalue": "non-default argument follows default argument (4041130548.py, line 1)",
     "output_type": "error",
     "traceback": [
      "\u001b[1;36m  Input \u001b[1;32mIn [30]\u001b[1;36m\u001b[0m\n\u001b[1;33m    def stringIndex(string='abcd', char):\u001b[0m\n\u001b[1;37m                                       ^\u001b[0m\n\u001b[1;31mSyntaxError\u001b[0m\u001b[1;31m:\u001b[0m non-default argument follows default argument\n"
     ]
    }
   ],
   "source": [
    "def stringIndex(string='abcd', char):\n",
    "    \"\"\"\n",
    "    param: string required.\n",
    "    char--> optional, defualt,  a\n",
    "    \n",
    "    \"\"\"\n",
    "    indics = []\n",
    "    for index, character in enumerate(string):\n",
    "        if character == char:\n",
    "            indics.append(index)\n",
    "    print(indics)"
   ]
  },
  {
   "cell_type": "code",
   "execution_count": 31,
   "id": "16226d25",
   "metadata": {},
   "outputs": [],
   "source": [
    "def stringIndex(string, char):\n",
    "\n",
    "    indics = []\n",
    "    for index, character in enumerate(string):\n",
    "        if character == char:\n",
    "            indics.append(index)\n",
    "    print(indics)"
   ]
  },
  {
   "cell_type": "code",
   "execution_count": 34,
   "id": "23fb2cf4",
   "metadata": {},
   "outputs": [
    {
     "name": "stdout",
     "output_type": "stream",
     "text": [
      "[0]\n"
     ]
    }
   ],
   "source": [
    "stringIndex(char='a', string='abc')"
   ]
  },
  {
   "cell_type": "code",
   "execution_count": 52,
   "id": "1e3b2dfa",
   "metadata": {},
   "outputs": [],
   "source": [
    "def stringIndex(string, char):\n",
    "    indics = []\n",
    "    for index, character in enumerate(string):\n",
    "        if character == char:\n",
    "            indics.append(index)\n",
    "    return indics\n",
    "    "
   ]
  },
  {
   "cell_type": "code",
   "execution_count": 53,
   "id": "a6b84374",
   "metadata": {},
   "outputs": [],
   "source": [
    "rep = stringIndex('abcd', 'd')"
   ]
  },
  {
   "cell_type": "code",
   "execution_count": 54,
   "id": "bfad5c07",
   "metadata": {},
   "outputs": [],
   "source": [
    "def getAverage(*params):\n",
    "    s = 0\n",
    "    for c , val in enumerate(params):\n",
    "        s+=val\n",
    "    averg = s /len(params)\n",
    "    return averg"
   ]
  },
  {
   "cell_type": "code",
   "execution_count": 58,
   "id": "438c1c40",
   "metadata": {},
   "outputs": [
    {
     "data": {
      "text/plain": [
       "2.5"
      ]
     },
     "execution_count": 58,
     "metadata": {},
     "output_type": "execute_result"
    }
   ],
   "source": [
    "getAverage(1,2, 3, 4)"
   ]
  },
  {
   "cell_type": "code",
   "execution_count": 67,
   "id": "4e0830a6",
   "metadata": {},
   "outputs": [
    {
     "name": "stdout",
     "output_type": "stream",
     "text": [
      "Enter the amount.1\n",
      "Enter the source currency. (e.g, USD)usd\n",
      "Enter the Target Currency. (eg. PKR)pkr\n",
      "1.0 in USD is equal 280.0 in PKR.\n",
      "Do another Conversion?. (yes/no)yes\n",
      "Enter the amount.1\n",
      "Enter the source currency. (e.g, USD)eur\n",
      "Enter the Target Currency. (eg. PKR)pkr\n",
      "The Currency is not existing in exchange.\n",
      "Do another Conversion?. (yes/no)n\n"
     ]
    }
   ],
   "source": [
    "exchangeRates = {\n",
    "    'USD': 1.0,\n",
    "    'PKR': 280,\n",
    "    'INR': 80,\n",
    "    'AFG': 70\n",
    "}\n",
    "\n",
    "def convertCurrency(amount, fromCurrency, toCurrency):\n",
    "    if fromCurrency in exchangeRates and toCurrency in exchangeRates:\n",
    "        rate = exchangeRates[toCurrency]/exchangeRates[fromCurrency]\n",
    "        convertedAmount = amount * rate\n",
    "        return convertedAmount\n",
    "        \n",
    "    else:\n",
    "        return 'The Currency is not existing in exchange.'\n",
    "\n",
    "\n",
    "while True:\n",
    "    amount = float(input('Enter the amount.'))\n",
    "    fromCurrency = input('Enter the source currency. (e.g, USD)').upper()\n",
    "    toCurrency = input('Enter the Target Currency. (eg. PKR)').upper()\n",
    "    result = convertCurrency(amount, fromCurrency, toCurrency)\n",
    "    \n",
    "    if isinstance(result, (int, float)):\n",
    "        print(f'{amount} in {fromCurrency} is equal {result} in {toCurrency}.')\n",
    "    else:\n",
    "        print(result)\n",
    "        \n",
    "    anotherConversion = input('Do another Conversion?. (yes/no)').lower()\n",
    "    if anotherConversion != 'yes':\n",
    "        break"
   ]
  },
  {
   "cell_type": "code",
   "execution_count": 66,
   "id": "2e281f0c",
   "metadata": {},
   "outputs": [
    {
     "data": {
      "text/plain": [
       "280.0"
      ]
     },
     "execution_count": 66,
     "metadata": {},
     "output_type": "execute_result"
    }
   ],
   "source": [
    "convertCurrency(1, 'USD', 'PKR')"
   ]
  },
  {
   "cell_type": "code",
   "execution_count": null,
   "id": "e779c078",
   "metadata": {},
   "outputs": [],
   "source": []
  }
 ],
 "metadata": {
  "kernelspec": {
   "display_name": "Python 3 (ipykernel)",
   "language": "python",
   "name": "python3"
  },
  "language_info": {
   "codemirror_mode": {
    "name": "ipython",
    "version": 3
   },
   "file_extension": ".py",
   "mimetype": "text/x-python",
   "name": "python",
   "nbconvert_exporter": "python",
   "pygments_lexer": "ipython3",
   "version": "3.10.9"
  }
 },
 "nbformat": 4,
 "nbformat_minor": 5
}
