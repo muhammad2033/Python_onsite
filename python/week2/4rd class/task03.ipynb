{
 "cells": [
  {
   "cell_type": "code",
   "execution_count": 2,
   "id": "b4804843",
   "metadata": {},
   "outputs": [
    {
     "data": {
      "text/plain": [
       "0.4"
      ]
     },
     "execution_count": 2,
     "metadata": {},
     "output_type": "execute_result"
    }
   ],
   "source": [
    "# task1\n",
    "# *args is used to pass a variable number of non-keyword arguments to a function.\n",
    "\n",
    "# *args\n",
    "def function(*args):\n",
    "    for sum in args:\n",
    "        \n",
    "        ave = (sum/5)\n",
    "        return ave\n",
    "function(2,3,4,5,3)\n",
    "    \n",
    "    "
   ]
  },
  {
   "cell_type": "code",
   "execution_count": 3,
   "id": "b9d86c53",
   "metadata": {},
   "outputs": [
    {
     "data": {
      "text/plain": [
       "720"
      ]
     },
     "execution_count": 3,
     "metadata": {},
     "output_type": "execute_result"
    }
   ],
   "source": [
    "# task2 factorial\n",
    "\n",
    "import math\n",
    "def factorial(number):\n",
    "    fac = math.factorial(number)\n",
    "    return fac\n",
    "\n",
    "factorial(6)    \n",
    "    \n"
   ]
  },
  {
   "cell_type": "code",
   "execution_count": 4,
   "id": "c48d1f88",
   "metadata": {},
   "outputs": [
    {
     "name": "stdout",
     "output_type": "stream",
     "text": [
      "a: 1\n",
      "b: 2\n",
      "c: 3\n"
     ]
    }
   ],
   "source": [
    "# task3  **kwargs\n",
    "# It allows you to pass named arguments as key-value pairs, and these are collected into a dictionary.\n",
    "\n",
    "\n",
    "\n",
    "def my_function(**kwargs):\n",
    "    for key, value in kwargs.items():\n",
    "        print(f\"{key}: {value}\")\n",
    "\n",
    "my_function(a=1, b=2, c=3)  # Prints \"a: 1\", \"b: 2\", \"c: 3\"\n"
   ]
  },
  {
   "cell_type": "code",
   "execution_count": 3,
   "id": "e88da802",
   "metadata": {},
   "outputs": [
    {
     "name": "stdout",
     "output_type": "stream",
     "text": [
      "{'A': 70, 'B': 110, 'C': 20, 'D': 15}\n"
     ]
    }
   ],
   "source": [
    "# task4 \n",
    "def function(data):\n",
    "\n",
    "     \n",
    "    categorySum = {}\n",
    "    \n",
    "    for entry in data:\n",
    "        category = entry['category']\n",
    "        value = entry['Value']\n",
    "        if category in categorySum:\n",
    "            categorySum[category] =categorySum[category]+ value\n",
    "        else:\n",
    "            categorySum[category] = value\n",
    "    print(categorySum)\n",
    "function(data = [\n",
    "        {'category': 'A', 'Value': 10},\n",
    "        {'category': 'B', 'Value': 50},\n",
    "        {'category': 'C', 'Value': 20},\n",
    "        {'category': 'A', 'Value': 60},\n",
    "        {'category': 'D', 'Value': 15},\n",
    "        {'category': 'B', 'Value': 30,},\n",
    "        {'category': 'B', 'Value': 30, }\n",
    "    ])\n"
   ]
  },
  {
   "cell_type": "code",
   "execution_count": 6,
   "id": "c0089486",
   "metadata": {},
   "outputs": [
    {
     "name": "stdout",
     "output_type": "stream",
     "text": [
      "enter the number for greeting  :  6\n",
      " where have you been ?\n",
      " \n"
     ]
    }
   ],
   "source": [
    "# task5  \n",
    "def conversation():\n",
    "    phone = str(input(\"enter the number for greeting  :  \"))\n",
    "    conversion_numbering = {\n",
    "                \"1\" : \"asslam_alaikum! \\n\",\n",
    "                \"2\" : \"how r u doing?\\n\",\n",
    "                \"3\" : \"i'm fine,\\n \",\n",
    "                \"4\" : \"what do u do?\\n\",\n",
    "                \"5\" : \"i am teacher of python and english , i have been learning english for several years and python for a year \\n\",\n",
    "                \"6\" : \"where have you been ?\\n\",\n",
    "                \"7\" : \"i havebeen here, nothing have to visit \\n \",\n",
    "                \"8\" : \"ok good , thats sound good \",\n",
    "\n",
    "\n",
    "    }\n",
    "    output = \" \"\n",
    "    for ch in phone:\n",
    "        output += conversion_numbering.get(ch,\"!\") +\" \"\n",
    "    print(output) \n",
    "conversation()"
   ]
  },
  {
   "cell_type": "code",
   "execution_count": null,
   "id": "e70e3d73",
   "metadata": {},
   "outputs": [],
   "source": [
    "# task6\n",
    "def "
   ]
  },
  {
   "cell_type": "code",
   "execution_count": null,
   "id": "146a009c",
   "metadata": {},
   "outputs": [],
   "source": []
  }
 ],
 "metadata": {
  "kernelspec": {
   "display_name": "Python 3 (ipykernel)",
   "language": "python",
   "name": "python3"
  },
  "language_info": {
   "codemirror_mode": {
    "name": "ipython",
    "version": 3
   },
   "file_extension": ".py",
   "mimetype": "text/x-python",
   "name": "python",
   "nbconvert_exporter": "python",
   "pygments_lexer": "ipython3",
   "version": "3.10.9"
  }
 },
 "nbformat": 4,
 "nbformat_minor": 5
}
