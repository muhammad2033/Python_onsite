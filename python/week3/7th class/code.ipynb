{
 "cells": [
  {
   "cell_type": "code",
   "execution_count": 3,
   "id": "484c088a",
   "metadata": {},
   "outputs": [],
   "source": [
    "from module import StudentEnrollement as SE\n"
   ]
  },
  {
   "cell_type": "code",
   "execution_count": 2,
   "id": "c8e84179",
   "metadata": {},
   "outputs": [
    {
     "name": "stdout",
     "output_type": "stream",
     "text": [
      "Welcome Khan\n"
     ]
    }
   ],
   "source": [
    "greeting('Khan')"
   ]
  },
  {
   "cell_type": "code",
   "execution_count": 74,
   "id": "85c3e9ae",
   "metadata": {},
   "outputs": [],
   "source": [
    "s1 = SE(1, 10, 2, 2023)"
   ]
  },
  {
   "cell_type": "code",
   "execution_count": 75,
   "id": "e1ffd4ba",
   "metadata": {},
   "outputs": [
    {
     "name": "stdout",
     "output_type": "stream",
     "text": [
      "Enter your name: kha\n",
      "Enter your father name: khan\n",
      "Enter your email: khan@email.com\n",
      "Enter your location: mardan\n",
      "Invalid location\n"
     ]
    }
   ],
   "source": [
    "s1.signUp()"
   ]
  },
  {
   "cell_type": "code",
   "execution_count": 68,
   "id": "b9008d44",
   "metadata": {},
   "outputs": [],
   "source": [
    "class Person:\n",
    "    def __init__(self, name, age, gender):\n",
    "        self.name = name\n",
    "        self.age = age\n",
    "        self.gender = gender\n",
    "        \n",
    "    def displayInfo(self):\n",
    "        return f'{self.name}, {self.age} years old, {self.gender}'\n",
    "        \n",
    "class Teacher(Person):\n",
    "    def __init__(self, name, age, gender, subjetTeaches):\n",
    "        super().__init__(name, age, gender)\n",
    "        self.subjectTeaches = subjetTeaches\n",
    "        \n",
    "    def teach(self):\n",
    "        return f'{self.name} teaches {self.subjectTeaches}'\n",
    "    \n",
    "class Student(Person):\n",
    "    def __init__(self, name, age, gender, dept):\n",
    "        super().__init__(name, age, gender)\n",
    "        self.department = dept\n",
    "        \n",
    "    def study(self):\n",
    "        return f'{self.name} studies in {self.department} dept.'"
   ]
  },
  {
   "cell_type": "code",
   "execution_count": 60,
   "id": "f10c2fc5",
   "metadata": {},
   "outputs": [],
   "source": [
    "# p1 = Person('Ali', 18, 'Male')\n",
    "# p2 = Person('Lena', 29, 'Female')"
   ]
  },
  {
   "cell_type": "code",
   "execution_count": 61,
   "id": "b5d9d31b",
   "metadata": {},
   "outputs": [],
   "source": [
    "# p1.DisplayInfo()"
   ]
  },
  {
   "cell_type": "code",
   "execution_count": 62,
   "id": "d829be5e",
   "metadata": {},
   "outputs": [],
   "source": [
    "# p2.DisplayInfo()"
   ]
  },
  {
   "cell_type": "code",
   "execution_count": 63,
   "id": "ae02008b",
   "metadata": {},
   "outputs": [
    {
     "data": {
      "text/plain": [
       "'Ali, 20 years old, Male'"
      ]
     },
     "execution_count": 63,
     "metadata": {},
     "output_type": "execute_result"
    }
   ],
   "source": [
    "p3 = Person('Ali', '20', 'Male')\n",
    "p3.displayInfo()"
   ]
  },
  {
   "cell_type": "code",
   "execution_count": 64,
   "id": "b685cc37",
   "metadata": {},
   "outputs": [
    {
     "ename": "AttributeError",
     "evalue": "'Person' object has no attribute 'teach'",
     "output_type": "error",
     "traceback": [
      "\u001b[1;31m---------------------------------------------------------------------------\u001b[0m",
      "\u001b[1;31mAttributeError\u001b[0m                            Traceback (most recent call last)",
      "Input \u001b[1;32mIn [64]\u001b[0m, in \u001b[0;36m<cell line: 1>\u001b[1;34m()\u001b[0m\n\u001b[1;32m----> 1\u001b[0m \u001b[43mp3\u001b[49m\u001b[38;5;241;43m.\u001b[39;49m\u001b[43mteach\u001b[49m()\n",
      "\u001b[1;31mAttributeError\u001b[0m: 'Person' object has no attribute 'teach'"
     ]
    }
   ],
   "source": [
    "p3.teach()"
   ]
  },
  {
   "cell_type": "code",
   "execution_count": 65,
   "id": "08f2c248",
   "metadata": {},
   "outputs": [],
   "source": [
    "t1 = Teacher('Aslam', 40, 'Male', 'python')"
   ]
  },
  {
   "cell_type": "code",
   "execution_count": 66,
   "id": "642f641b",
   "metadata": {},
   "outputs": [
    {
     "data": {
      "text/plain": [
       "'Aslam teaches python'"
      ]
     },
     "execution_count": 66,
     "metadata": {},
     "output_type": "execute_result"
    }
   ],
   "source": [
    "t1.teach()"
   ]
  },
  {
   "cell_type": "code",
   "execution_count": 67,
   "id": "56114a75",
   "metadata": {},
   "outputs": [
    {
     "data": {
      "text/plain": [
       "'Aslam, 40 years old, Male'"
      ]
     },
     "execution_count": 67,
     "metadata": {},
     "output_type": "execute_result"
    }
   ],
   "source": [
    "t1.displayInfo()"
   ]
  },
  {
   "cell_type": "code",
   "execution_count": 69,
   "id": "d99dfe72",
   "metadata": {},
   "outputs": [],
   "source": [
    "s1 = Student('Kamal', 20, 'Male', 'CS')"
   ]
  },
  {
   "cell_type": "code",
   "execution_count": 72,
   "id": "9d802f96",
   "metadata": {},
   "outputs": [
    {
     "name": "stdout",
     "output_type": "stream",
     "text": [
      "Kamal studies in CS dept.\n"
     ]
    }
   ],
   "source": [
    "print(s1.study())\n",
    "a = 10"
   ]
  },
  {
   "cell_type": "code",
   "execution_count": 79,
   "id": "3878ff0f",
   "metadata": {},
   "outputs": [
    {
     "data": {
      "text/plain": [
       "'2/3 5/3'"
      ]
     },
     "execution_count": 79,
     "metadata": {},
     "output_type": "execute_result"
    }
   ],
   "source": [
    "'2/3'+' 5/3'"
   ]
  },
  {
   "cell_type": "code",
   "execution_count": 12,
   "id": "3d9b98b0",
   "metadata": {},
   "outputs": [],
   "source": [
    "from math import gcd\n",
    "class Fraction:\n",
    "    def __init__(self, numerator, denomerator):\n",
    "        self.numerator = numerator\n",
    "        self.denomerator = denomerator\n",
    "        if self.denomerator == 0:\n",
    "            raise ValueError ('Denomerator can not be zero')\n",
    "        common = gcd(self.numerator, self.denomerator)\n",
    "        self.numerator = self.numerator // common\n",
    "        self.denomerator = self.denomerator // common\n",
    "    def __str__(self):\n",
    "        return f'{self.numerator}/{self.denomerator}'    \n",
    "    def __add__(self, other):\n",
    "        newNomerator = self.numerator * other.denomerator + self.denomerator * other.numerator\n",
    "        newDenomerator = self.denomerator * other.denomerator\n",
    "        return f'{newNomerator}/{newDenomerator}'\n",
    "    def __sub__(self, other):\n",
    "        newNomerator = self.numerator * other.denomerator - self.denomerator * other.numerator\n",
    "        newDenomerator = self.denomerator * other.denomerator\n",
    "        return f'{newNomerator}/{newDenomerator}'\n",
    "    def __mul__(self, other):\n",
    "        pass\n",
    "    def __truediv__(self, other):\n",
    "        pass"
   ]
  },
  {
   "cell_type": "code",
   "execution_count": 13,
   "id": "2e2a577b",
   "metadata": {},
   "outputs": [
    {
     "name": "stdout",
     "output_type": "stream",
     "text": [
      "1/2\n",
      "1/2\n"
     ]
    }
   ],
   "source": [
    "frac1 = Fraction(2,4)\n",
    "frac2 = Fraction(2,4)\n",
    "print(str(frac1))\n",
    "print(str(frac2))"
   ]
  },
  {
   "cell_type": "code",
   "execution_count": 14,
   "id": "c57cc34e",
   "metadata": {},
   "outputs": [
    {
     "data": {
      "text/plain": [
       "'4/4'"
      ]
     },
     "execution_count": 14,
     "metadata": {},
     "output_type": "execute_result"
    }
   ],
   "source": [
    "result = frac1 + frac2\n",
    "str(result)"
   ]
  },
  {
   "cell_type": "code",
   "execution_count": 102,
   "id": "341a5115",
   "metadata": {},
   "outputs": [
    {
     "data": {
      "text/plain": [
       "'1/10'"
      ]
     },
     "execution_count": 102,
     "metadata": {},
     "output_type": "execute_result"
    }
   ],
   "source": [
    "result = frac1 - frac2\n",
    "str(result)"
   ]
  },
  {
   "cell_type": "code",
   "execution_count": 107,
   "id": "1591b681",
   "metadata": {},
   "outputs": [
    {
     "name": "stdout",
     "output_type": "stream",
     "text": [
      "<class '__main__.Fraction'>\n"
     ]
    }
   ],
   "source": [
    "print(type(frac1))"
   ]
  },
  {
   "cell_type": "code",
   "execution_count": 5,
   "id": "610461f6",
   "metadata": {},
   "outputs": [],
   "source": [
    "import numpy as np"
   ]
  },
  {
   "cell_type": "code",
   "execution_count": 110,
   "id": "34073e0e",
   "metadata": {},
   "outputs": [],
   "source": [
    "ar1 = np.array([1,2,3,4,5])"
   ]
  },
  {
   "cell_type": "code",
   "execution_count": 113,
   "id": "b17d9c11",
   "metadata": {},
   "outputs": [
    {
     "name": "stdout",
     "output_type": "stream",
     "text": [
      "<class 'numpy.ndarray'>\n"
     ]
    }
   ],
   "source": [
    "ar1\n",
    "print(type(ar1))"
   ]
  },
  {
   "cell_type": "code",
   "execution_count": 115,
   "id": "8fcfaec7",
   "metadata": {},
   "outputs": [
    {
     "name": "stdout",
     "output_type": "stream",
     "text": [
      "<class 'list'>\n",
      "<class 'numpy.ndarray'>\n"
     ]
    },
    {
     "data": {
      "text/plain": [
       "array([10, 11, 12, 13])"
      ]
     },
     "execution_count": 115,
     "metadata": {},
     "output_type": "execute_result"
    }
   ],
   "source": [
    "data = [10,11,12,13]\n",
    "print(type(data))\n",
    "ar2 = np.array(data)\n",
    "print(type(ar2))\n",
    "ar2"
   ]
  },
  {
   "cell_type": "code",
   "execution_count": 116,
   "id": "43b577e8",
   "metadata": {},
   "outputs": [
    {
     "data": {
      "text/plain": [
       "array([0, 1, 2, 3, 4, 5, 6, 7, 8, 9])"
      ]
     },
     "execution_count": 116,
     "metadata": {},
     "output_type": "execute_result"
    }
   ],
   "source": [
    "ar3 = np.arange(10)\n",
    "ar3"
   ]
  },
  {
   "cell_type": "code",
   "execution_count": 119,
   "id": "387abf97",
   "metadata": {},
   "outputs": [
    {
     "data": {
      "text/plain": [
       "array([ 0.        ,  1.11111111,  2.22222222,  3.33333333,  4.44444444,\n",
       "        5.55555556,  6.66666667,  7.77777778,  8.88888889, 10.        ])"
      ]
     },
     "execution_count": 119,
     "metadata": {},
     "output_type": "execute_result"
    }
   ],
   "source": [
    "ar4 = np.linspace(0,10,10)\n",
    "ar4"
   ]
  },
  {
   "cell_type": "code",
   "execution_count": 120,
   "id": "b08fd74f",
   "metadata": {},
   "outputs": [],
   "source": [
    "data = [[12,14,16,18],\n",
    "       [22,24,26,28]\n",
    "       ]"
   ]
  },
  {
   "cell_type": "code",
   "execution_count": 121,
   "id": "a3b332ad",
   "metadata": {},
   "outputs": [],
   "source": [
    "ar2d = np.array(data)"
   ]
  },
  {
   "cell_type": "code",
   "execution_count": 122,
   "id": "78488d23",
   "metadata": {},
   "outputs": [
    {
     "data": {
      "text/plain": [
       "array([[12, 14, 16, 18],\n",
       "       [22, 24, 26, 28]])"
      ]
     },
     "execution_count": 122,
     "metadata": {},
     "output_type": "execute_result"
    }
   ],
   "source": [
    "ar2d"
   ]
  },
  {
   "cell_type": "code",
   "execution_count": 9,
   "id": "d66491f8",
   "metadata": {},
   "outputs": [
    {
     "data": {
      "text/plain": [
       "array([[0, 0, 0, 0, 0, 0, 0, 0, 0, 0],\n",
       "       [0, 0, 0, 0, 0, 0, 0, 0, 0, 0],\n",
       "       [0, 0, 0, 0, 0, 0, 0, 0, 0, 0],\n",
       "       [0, 0, 0, 0, 0, 0, 0, 0, 0, 0],\n",
       "       [0, 0, 0, 0, 0, 0, 0, 0, 0, 0],\n",
       "       [0, 0, 0, 0, 0, 0, 0, 0, 0, 0],\n",
       "       [0, 0, 0, 0, 0, 0, 0, 0, 0, 0],\n",
       "       [0, 0, 0, 0, 0, 0, 0, 0, 0, 0],\n",
       "       [0, 0, 0, 0, 0, 0, 0, 0, 0, 0],\n",
       "       [0, 0, 0, 0, 0, 0, 0, 0, 0, 0]], dtype=uint16)"
      ]
     },
     "execution_count": 9,
     "metadata": {},
     "output_type": "execute_result"
    }
   ],
   "source": [
    "arzeros = np.zeros((10,10), dtype=np.uint16)\n",
    "arzeros"
   ]
  },
  {
   "cell_type": "code",
   "execution_count": 10,
   "id": "0c99f4cd",
   "metadata": {},
   "outputs": [
    {
     "data": {
      "text/plain": [
       "dtype('uint16')"
      ]
     },
     "execution_count": 10,
     "metadata": {},
     "output_type": "execute_result"
    }
   ],
   "source": [
    "arzeros.dtype"
   ]
  },
  {
   "cell_type": "code",
   "execution_count": 11,
   "id": "5bcdd596",
   "metadata": {},
   "outputs": [
    {
     "data": {
      "text/plain": [
       "numpy.ndarray"
      ]
     },
     "execution_count": 11,
     "metadata": {},
     "output_type": "execute_result"
    }
   ],
   "source": [
    "type(arzeros)"
   ]
  },
  {
   "cell_type": "code",
   "execution_count": null,
   "id": "ee25d20e",
   "metadata": {},
   "outputs": [],
   "source": []
  }
 ],
 "metadata": {
  "kernelspec": {
   "display_name": "Python 3 (ipykernel)",
   "language": "python",
   "name": "python3"
  },
  "language_info": {
   "codemirror_mode": {
    "name": "ipython",
    "version": 3
   },
   "file_extension": ".py",
   "mimetype": "text/x-python",
   "name": "python",
   "nbconvert_exporter": "python",
   "pygments_lexer": "ipython3",
   "version": "3.10.9"
  }
 },
 "nbformat": 4,
 "nbformat_minor": 5
}
