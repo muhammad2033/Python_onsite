{
 "cells": [
  {
   "cell_type": "code",
   "execution_count": 1,
   "id": "a251f87d",
   "metadata": {},
   "outputs": [],
   "source": [
    "from math import gcd"
   ]
  },
  {
   "cell_type": "code",
   "execution_count": 4,
   "id": "0d31d129",
   "metadata": {},
   "outputs": [],
   "source": [
    "class fraction:\n",
    "    def __init__(self, numerator, denomerator):\n",
    "        self.numerator = numerator\n",
    "        self.denomerator = denomerator\n",
    "        if self.denomerator == 0:\n",
    "            raise ValueError('Denomerator can not be zero.')\n",
    "        common = gcd(self.numerator, self.denomerator)\n",
    "        self.numerator = self.numerator // common\n",
    "        self.denomerator = self.denomerator // common\n",
    "\n",
    "    def __str__(self):\n",
    "        return f'{self.numerator}/{self.denomerator}'\n",
    "    def __add__(self, other):\n",
    "        new_numerator = self.numerator * other.denomerator + self.denomerator * other.numerator\n",
    "        new_denomerator = self.denomerator * other.denomerator\n",
    "        return fraction(new_numerator, new_denomerator)\n",
    "    def __sub__(self, other):\n",
    "        new_numerator = self.numerator * other.denomerator - self.denomerator * other.denomerator\n",
    "        new_denomerator = self.numerator * other.denomerator\n",
    "        return fraction(new_numerator, new_denomerator)\n",
    "    def __mul__(self, other):\n",
    "        pass\n",
    "    def __truediv__(self, other):\n",
    "        pass"
   ]
  },
  {
   "cell_type": "code",
   "execution_count": 5,
   "id": "a118e7d9",
   "metadata": {},
   "outputs": [
    {
     "ename": "NameError",
     "evalue": "name 'gcd' is not defined",
     "output_type": "error",
     "traceback": [
      "\u001b[1;31m---------------------------------------------------------------------------\u001b[0m",
      "\u001b[1;31mNameError\u001b[0m                                 Traceback (most recent call last)",
      "Cell \u001b[1;32mIn[5], line 1\u001b[0m\n\u001b[1;32m----> 1\u001b[0m frac1 \u001b[38;5;241m=\u001b[39m \u001b[43mfraction\u001b[49m\u001b[43m(\u001b[49m\u001b[38;5;241;43m3\u001b[39;49m\u001b[43m,\u001b[49m\u001b[38;5;241;43m4\u001b[39;49m\u001b[43m)\u001b[49m\n\u001b[0;32m      2\u001b[0m frac2 \u001b[38;5;241m=\u001b[39m fraction(\u001b[38;5;241m5\u001b[39m,\u001b[38;5;241m4\u001b[39m)\n\u001b[0;32m      3\u001b[0m result \u001b[38;5;241m=\u001b[39m frac1\u001b[38;5;241m+\u001b[39mfrac2\n",
      "Cell \u001b[1;32mIn[4], line 7\u001b[0m, in \u001b[0;36mfraction.__init__\u001b[1;34m(self, numerator, denomerator)\u001b[0m\n\u001b[0;32m      5\u001b[0m \u001b[38;5;28;01mif\u001b[39;00m \u001b[38;5;28mself\u001b[39m\u001b[38;5;241m.\u001b[39mdenomerator \u001b[38;5;241m==\u001b[39m \u001b[38;5;241m0\u001b[39m:\n\u001b[0;32m      6\u001b[0m     \u001b[38;5;28;01mraise\u001b[39;00m \u001b[38;5;167;01mValueError\u001b[39;00m(\u001b[38;5;124m'\u001b[39m\u001b[38;5;124mDenomerator can not be zero.\u001b[39m\u001b[38;5;124m'\u001b[39m)\n\u001b[1;32m----> 7\u001b[0m common \u001b[38;5;241m=\u001b[39m \u001b[43mgcd\u001b[49m(\u001b[38;5;28mself\u001b[39m\u001b[38;5;241m.\u001b[39mnumerator, \u001b[38;5;28mself\u001b[39m\u001b[38;5;241m.\u001b[39mdenomerator)\n\u001b[0;32m      8\u001b[0m \u001b[38;5;28mself\u001b[39m\u001b[38;5;241m.\u001b[39mnumerator \u001b[38;5;241m=\u001b[39m \u001b[38;5;28mself\u001b[39m\u001b[38;5;241m.\u001b[39mnumerator \u001b[38;5;241m/\u001b[39m\u001b[38;5;241m/\u001b[39m common\n\u001b[0;32m      9\u001b[0m \u001b[38;5;28mself\u001b[39m\u001b[38;5;241m.\u001b[39mdenomerator \u001b[38;5;241m=\u001b[39m \u001b[38;5;28mself\u001b[39m\u001b[38;5;241m.\u001b[39mdenomerator \u001b[38;5;241m/\u001b[39m\u001b[38;5;241m/\u001b[39m common\n",
      "\u001b[1;31mNameError\u001b[0m: name 'gcd' is not defined"
     ]
    }
   ],
   "source": [
    "frac1 = fraction(3,4)\n",
    "frac2 = fraction(5,4)\n",
    "result = frac1+frac2\n",
    "result = frac1 - frac2\n",
    "str(result)"
   ]
  },
  {
   "cell_type": "code",
   "execution_count": 6,
   "id": "2779feb7",
   "metadata": {},
   "outputs": [
    {
     "name": "stdout",
     "output_type": "stream",
     "text": [
      "Alice, 20 years old, Female\n",
      "Alice is studying.\n",
      "Mr. Smith, 35 years old, Male\n",
      "Mr. Smith is teaching Mathematics.\n"
     ]
    }
   ],
   "source": [
    "class Person:\n",
    "    def __init__(self, name, age, gender):\n",
    "        self.name = name\n",
    "        self.age = age\n",
    "        self.gender = gender\n",
    "\n",
    "    def display_info(self):\n",
    "        return f\"{self.name}, {self.age} years old, {self.gender}\"\n",
    "\n",
    "\n",
    "class Student(Person):\n",
    "    def __init__(self, name, age, gender, student_id):\n",
    "        super().__init__(name, age, gender)\n",
    "        self.student_id = student_id\n",
    "\n",
    "    def study(self):\n",
    "        return f\"{self.name} is studying.\"\n",
    "\n",
    "\n",
    "class Teacher(Person):\n",
    "    def __init__(self, name, age, gender, subject_taught):\n",
    "        super().__init__(name, age, gender)\n",
    "        self.subject_taught = subject_taught\n",
    "\n",
    "    def teach(self):\n",
    "        return f\"{self.name} is teaching {self.subject_taught}.\"\n",
    "\n",
    "\n",
    "# Example usage:\n",
    "student = Student(\"Alice\", 20, \"Female\", \"S12345\")\n",
    "teacher = Teacher(\"Mr. Smith\", 35, \"Male\", \"Mathematics\")\n",
    "\n",
    "print(student.display_info())\n",
    "print(student.study())\n",
    "\n",
    "print(teacher.display_info())\n",
    "print(teacher.teach())\n"
   ]
  },
  {
   "cell_type": "code",
   "execution_count": 7,
   "id": "0e6b1b50",
   "metadata": {},
   "outputs": [
    {
     "name": "stdout",
     "output_type": "stream",
     "text": [
      "khan, 30 years old, Male\n"
     ]
    },
    {
     "data": {
      "text/plain": [
       "'khan is teaching Maths.'"
      ]
     },
     "execution_count": 7,
     "metadata": {},
     "output_type": "execute_result"
    }
   ],
   "source": [
    "teacher = Teacher('khan', 30, 'Male', 'Maths')\n",
    "student = Student('ali', 15, 'Male', '11122')\n",
    "\n",
    "print(teacher.display_info())\n",
    "teacher.teach()"
   ]
  },
  {
   "cell_type": "code",
   "execution_count": null,
   "id": "78c41292",
   "metadata": {},
   "outputs": [],
   "source": []
  }
 ],
 "metadata": {
  "kernelspec": {
   "display_name": "Python 3 (ipykernel)",
   "language": "python",
   "name": "python3"
  },
  "language_info": {
   "codemirror_mode": {
    "name": "ipython",
    "version": 3
   },
   "file_extension": ".py",
   "mimetype": "text/x-python",
   "name": "python",
   "nbconvert_exporter": "python",
   "pygments_lexer": "ipython3",
   "version": "3.10.9"
  }
 },
 "nbformat": 4,
 "nbformat_minor": 5
}
