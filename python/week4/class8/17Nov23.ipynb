{
 "cells": [
  {
   "cell_type": "code",
   "execution_count": 15,
   "id": "fabf7875",
   "metadata": {},
   "outputs": [],
   "source": [
    "#terminal command: pip install numpy\n",
    "# notebook command: !pip install numpy"
   ]
  },
  {
   "cell_type": "code",
   "execution_count": 22,
   "id": "a2104ad4",
   "metadata": {},
   "outputs": [],
   "source": [
    "import numpy as np\n",
    "#named import "
   ]
  },
  {
   "cell_type": "code",
   "execution_count": 21,
   "id": "61ddc8af",
   "metadata": {},
   "outputs": [
    {
     "data": {
      "text/plain": [
       "0.8939966636005579"
      ]
     },
     "execution_count": 21,
     "metadata": {},
     "output_type": "execute_result"
    }
   ],
   "source": [
    "#numpy stands: numerical python\n",
    "# num ds: ndarray --> [[1.0,2.0,]]"
   ]
  },
  {
   "cell_type": "code",
   "execution_count": 24,
   "id": "dce713da",
   "metadata": {},
   "outputs": [
    {
     "name": "stdout",
     "output_type": "stream",
     "text": [
      "[1 2 3 4 5]\n",
      "<class 'numpy.ndarray'>\n",
      "int32\n"
     ]
    }
   ],
   "source": [
    "arr1 = np.array([1,2,3,4,5])\n",
    "print(arr1)\n",
    "print(type(arr1))\n",
    "print(arr1.dtype)"
   ]
  },
  {
   "cell_type": "code",
   "execution_count": 27,
   "id": "d7af60f4",
   "metadata": {},
   "outputs": [
    {
     "name": "stdout",
     "output_type": "stream",
     "text": [
      "<class 'list'>\n",
      "[10 20 25 14] <class 'numpy.ndarray'> int8\n"
     ]
    }
   ],
   "source": [
    "data = [10.,20,25,14]\n",
    "print(type(data))\n",
    "dataArr = np.array(data, dtype='uint16')\n",
    "print(dataArr, type(dataArr), dataArr.dtype)"
   ]
  },
  {
   "cell_type": "code",
   "execution_count": 28,
   "id": "d83e06e8",
   "metadata": {},
   "outputs": [
    {
     "name": "stdout",
     "output_type": "stream",
     "text": [
      "<class 'list'>\n",
      "[10. 20. 25. 14.] <class 'numpy.ndarray'> float16\n"
     ]
    }
   ],
   "source": [
    "data = [10.,20,25,14]\n",
    "print(type(data))\n",
    "dataArr = np.array(data, dtype=np.float16)\n",
    "print(dataArr, type(dataArr), dataArr.dtype)"
   ]
  },
  {
   "cell_type": "code",
   "execution_count": 29,
   "id": "7b22a44f",
   "metadata": {},
   "outputs": [
    {
     "data": {
      "text/plain": [
       "array([[ 1,  2,  3],\n",
       "       [ 4,  5,  6],\n",
       "       [11, 12, 13]])"
      ]
     },
     "execution_count": 29,
     "metadata": {},
     "output_type": "execute_result"
    }
   ],
   "source": [
    "arr2d = np.array([[1,2,3],\n",
    "                 [4,5,6],\n",
    "                 [11,12,13]])\n",
    "arr2d"
   ]
  },
  {
   "cell_type": "code",
   "execution_count": 30,
   "id": "c9aa1363",
   "metadata": {},
   "outputs": [
    {
     "data": {
      "text/plain": [
       "2"
      ]
     },
     "execution_count": 30,
     "metadata": {},
     "output_type": "execute_result"
    }
   ],
   "source": [
    "arr2d.ndim"
   ]
  },
  {
   "cell_type": "code",
   "execution_count": 31,
   "id": "dd7577d7",
   "metadata": {},
   "outputs": [],
   "source": [
    "#data = [x,y,z]\n",
    "data =[[10,20,30], #x=10,20,30\n",
    "       [100,200,300], #y=100,200,300\n",
    "       [1000,2000,3000]] #z=100,200,300\n",
    "\n",
    "dataArr = np.array(data)"
   ]
  },
  {
   "cell_type": "code",
   "execution_count": 33,
   "id": "376227ff",
   "metadata": {},
   "outputs": [
    {
     "data": {
      "text/plain": [
       "dtype('int32')"
      ]
     },
     "execution_count": 33,
     "metadata": {},
     "output_type": "execute_result"
    }
   ],
   "source": [
    "dataArr.dtype"
   ]
  },
  {
   "cell_type": "code",
   "execution_count": 34,
   "id": "a2f8c113",
   "metadata": {},
   "outputs": [
    {
     "data": {
      "text/plain": [
       "numpy.ndarray"
      ]
     },
     "execution_count": 34,
     "metadata": {},
     "output_type": "execute_result"
    }
   ],
   "source": [
    "type(dataArr)"
   ]
  },
  {
   "cell_type": "code",
   "execution_count": 35,
   "id": "c1baa625",
   "metadata": {},
   "outputs": [
    {
     "data": {
      "text/plain": [
       "array([ 0,  1,  2,  3,  4,  5,  6,  7,  8,  9, 10, 11, 12, 13, 14, 15, 16,\n",
       "       17, 18, 19, 20, 21, 22, 23, 24, 25, 26, 27, 28, 29, 30, 31, 32, 33,\n",
       "       34, 35, 36, 37, 38, 39, 40, 41, 42, 43, 44, 45, 46, 47, 48, 49, 50,\n",
       "       51, 52, 53, 54, 55, 56, 57, 58, 59, 60, 61, 62, 63, 64, 65, 66, 67,\n",
       "       68, 69, 70, 71, 72, 73, 74, 75, 76, 77, 78, 79, 80, 81, 82, 83, 84,\n",
       "       85, 86, 87, 88, 89, 90, 91, 92, 93, 94, 95, 96, 97, 98, 99])"
      ]
     },
     "execution_count": 35,
     "metadata": {},
     "output_type": "execute_result"
    }
   ],
   "source": [
    "ar1d = np.arange(100)\n",
    "ar1d"
   ]
  },
  {
   "cell_type": "code",
   "execution_count": 45,
   "id": "ac24b4ba",
   "metadata": {},
   "outputs": [
    {
     "data": {
      "text/plain": [
       "array([10, 20, 30, 40, 50], dtype=int8)"
      ]
     },
     "execution_count": 45,
     "metadata": {},
     "output_type": "execute_result"
    }
   ],
   "source": [
    "ar1d = np.linspace(10, 50, 5).astype('int8')\n",
    "ar1d"
   ]
  },
  {
   "cell_type": "code",
   "execution_count": 42,
   "id": "4b641402",
   "metadata": {},
   "outputs": [
    {
     "data": {
      "text/plain": [
       "dtype('float64')"
      ]
     },
     "execution_count": 42,
     "metadata": {},
     "output_type": "execute_result"
    }
   ],
   "source": [
    "ar2d = np.ones((3,3))\n",
    "ar2d.dtype"
   ]
  },
  {
   "cell_type": "code",
   "execution_count": 53,
   "id": "a024423e",
   "metadata": {},
   "outputs": [
    {
     "data": {
      "text/plain": [
       "array([[1., 1., 1.],\n",
       "       [1., 1., 1.],\n",
       "       [1., 1., 1.]], dtype=float32)"
      ]
     },
     "execution_count": 53,
     "metadata": {},
     "output_type": "execute_result"
    }
   ],
   "source": [
    "ar2d = np.ones((3,3), dtype='float32')\n",
    "ar2d"
   ]
  },
  {
   "cell_type": "code",
   "execution_count": 58,
   "id": "14e153d2",
   "metadata": {},
   "outputs": [
    {
     "data": {
      "text/plain": [
       "3"
      ]
     },
     "execution_count": 58,
     "metadata": {},
     "output_type": "execute_result"
    }
   ],
   "source": [
    "zeros = np.zeros((5,3,3))\n",
    "zeros.ndim"
   ]
  },
  {
   "cell_type": "code",
   "execution_count": 60,
   "id": "f51c83fb",
   "metadata": {},
   "outputs": [
    {
     "data": {
      "text/plain": [
       "array([[1., 0., 0.],\n",
       "       [0., 1., 0.],\n",
       "       [0., 0., 1.]])"
      ]
     },
     "execution_count": 60,
     "metadata": {},
     "output_type": "execute_result"
    }
   ],
   "source": [
    "identity = np.eye(3)\n",
    "identity"
   ]
  },
  {
   "cell_type": "code",
   "execution_count": 63,
   "id": "1fad149b",
   "metadata": {},
   "outputs": [],
   "source": [
    "diagonal = np.diag([1,2,3])"
   ]
  },
  {
   "cell_type": "code",
   "execution_count": 64,
   "id": "30f9ee72",
   "metadata": {},
   "outputs": [
    {
     "data": {
      "text/plain": [
       "array([[1, 0, 0],\n",
       "       [0, 2, 0],\n",
       "       [0, 0, 3]])"
      ]
     },
     "execution_count": 64,
     "metadata": {},
     "output_type": "execute_result"
    }
   ],
   "source": [
    "diagonal"
   ]
  },
  {
   "cell_type": "code",
   "execution_count": 66,
   "id": "8315f976",
   "metadata": {},
   "outputs": [
    {
     "data": {
      "text/plain": [
       "array([[0.26120441, 0.1660883 , 0.47312276],\n",
       "       [0.66846131, 0.4659206 , 0.50451359],\n",
       "       [0.65326601, 0.58429572, 0.45646171]])"
      ]
     },
     "execution_count": 66,
     "metadata": {},
     "output_type": "execute_result"
    }
   ],
   "source": [
    "arr = np.random.rand(3,3)\n",
    "arr"
   ]
  },
  {
   "cell_type": "code",
   "execution_count": 76,
   "id": "90317dc4",
   "metadata": {},
   "outputs": [
    {
     "name": "stdout",
     "output_type": "stream",
     "text": [
      "[[ 0  2  4  6  8]\n",
      " [10 12 14 16 18]]\n"
     ]
    }
   ],
   "source": [
    "ar1d = np.arange(0,10).reshape(2,5).astype('int32')*2\n",
    "print(ar1d)"
   ]
  },
  {
   "cell_type": "code",
   "execution_count": 77,
   "id": "e77be785",
   "metadata": {},
   "outputs": [
    {
     "name": "stdout",
     "output_type": "stream",
     "text": [
      "[[ 0  2  4  6  8]\n",
      " [10 12 14 16 18]]\n"
     ]
    },
    {
     "data": {
      "text/plain": [
       "array([ 0,  2,  4,  6,  8, 10, 12, 14, 16, 18])"
      ]
     },
     "execution_count": 77,
     "metadata": {},
     "output_type": "execute_result"
    }
   ],
   "source": [
    "print(ar1d)\n",
    "ar1dF = ar1d.flatten()\n",
    "ar1dF"
   ]
  },
  {
   "cell_type": "code",
   "execution_count": 78,
   "id": "1f3fa7dc",
   "metadata": {},
   "outputs": [
    {
     "name": "stdout",
     "output_type": "stream",
     "text": [
      "[[ 0  2  4  6  8]\n",
      " [10 12 14 16 18]]\n"
     ]
    },
    {
     "data": {
      "text/plain": [
       "array([ 0,  2,  4,  6,  8, 10, 12, 14, 16, 18])"
      ]
     },
     "execution_count": 78,
     "metadata": {},
     "output_type": "execute_result"
    }
   ],
   "source": [
    "print(ar1d)\n",
    "ar1dF = ar1d.ravel()\n",
    "ar1dF"
   ]
  },
  {
   "cell_type": "code",
   "execution_count": 102,
   "id": "94c34e3c",
   "metadata": {},
   "outputs": [],
   "source": []
  },
  {
   "cell_type": "code",
   "execution_count": 111,
   "id": "a01ac734",
   "metadata": {},
   "outputs": [
    {
     "data": {
      "text/plain": [
       "array([[0.98901151, 0.54954473, 0.2814473 ],\n",
       "       [0.07728957, 0.4444695 , 0.47280797],\n",
       "       [0.048522  , 0.16332445, 0.11595071]])"
      ]
     },
     "execution_count": 111,
     "metadata": {},
     "output_type": "execute_result"
    }
   ],
   "source": [
    "np.random.seed(45)\n",
    "ourArray = np.random.rand(3,3)\n",
    "ourArray"
   ]
  },
  {
   "cell_type": "code",
   "execution_count": 125,
   "id": "f865f80a",
   "metadata": {},
   "outputs": [
    {
     "data": {
      "text/plain": [
       "array([[1, 2, 3],\n",
       "       [4, 5, 6],\n",
       "       [7, 8, 9]])"
      ]
     },
     "execution_count": 125,
     "metadata": {},
     "output_type": "execute_result"
    }
   ],
   "source": [
    "ourArray = np.arange(1,10).reshape(3,3)\n",
    "ourArray"
   ]
  },
  {
   "cell_type": "code",
   "execution_count": 126,
   "id": "aa5ff486",
   "metadata": {},
   "outputs": [
    {
     "data": {
      "text/plain": [
       "(3, 3)"
      ]
     },
     "execution_count": 126,
     "metadata": {},
     "output_type": "execute_result"
    }
   ],
   "source": [
    "ourArray.shape"
   ]
  },
  {
   "cell_type": "code",
   "execution_count": 129,
   "id": "ac5ac1d2",
   "metadata": {},
   "outputs": [
    {
     "data": {
      "text/plain": [
       "3"
      ]
     },
     "execution_count": 129,
     "metadata": {},
     "output_type": "execute_result"
    }
   ],
   "source": [
    "shape = ourArray.shape\n",
    "ourArray.shape[1]"
   ]
  },
  {
   "cell_type": "code",
   "execution_count": 131,
   "id": "9536373b",
   "metadata": {},
   "outputs": [
    {
     "data": {
      "text/plain": [
       "9"
      ]
     },
     "execution_count": 131,
     "metadata": {},
     "output_type": "execute_result"
    }
   ],
   "source": [
    "ourArray.size"
   ]
  },
  {
   "cell_type": "code",
   "execution_count": 136,
   "id": "74e4ac47",
   "metadata": {},
   "outputs": [
    {
     "name": "stdout",
     "output_type": "stream",
     "text": [
      "ar1:\n",
      " [[1 2 3]\n",
      " [4 5 6]\n",
      " [7 8 9]]\n",
      " ar2: \n",
      " [[21 22 23]\n",
      " [24 25 26]\n",
      " [27 28 29]]\n",
      " ar1+ar2:\n",
      " [[22 24 26]\n",
      " [28 30 32]\n",
      " [34 36 38]] result2: \n",
      " [[22 24 26]\n",
      " [28 30 32]\n",
      " [34 36 38]]\n"
     ]
    }
   ],
   "source": [
    "ar1 = np.arange(1,10).reshape(3,3)\n",
    "ar2 = np.arange(21,30).reshape(3,3)\n",
    "result = ar1+ar2\n",
    "result2 = np.add(ar1, ar2)\n",
    "print(f'ar1:\\n {ar1}\\n ar2: \\n {ar2}\\n ar1+ar2:\\n {result} result2: \\n {result2}')"
   ]
  },
  {
   "cell_type": "code",
   "execution_count": 138,
   "id": "60efc09d",
   "metadata": {
    "collapsed": true
   },
   "outputs": [
    {
     "name": "stdout",
     "output_type": "stream",
     "text": [
      "[[ 21  44  69]\n",
      " [ 96 125 156]\n",
      " [189 224 261]]\n",
      "[[150 156 162]\n",
      " [366 381 396]\n",
      " [582 606 630]]\n"
     ]
    }
   ],
   "source": [
    "resultM = ar1*ar2\n",
    "mResult = ar1 @ ar2\n",
    "print(resultM)\n",
    "print(mResult)"
   ]
  },
  {
   "cell_type": "code",
   "execution_count": 141,
   "id": "0165345a",
   "metadata": {},
   "outputs": [
    {
     "data": {
      "text/plain": [
       "'\\n1.integer\\n2. boolean\\n3. fancy\\n'"
      ]
     },
     "execution_count": 141,
     "metadata": {},
     "output_type": "execute_result"
    }
   ],
   "source": [
    "#indexing\n",
    "\"\"\"\n",
    "1.integer\n",
    "2. boolean\n",
    "3. fancy\n",
    "\"\"\"\n"
   ]
  },
  {
   "cell_type": "code",
   "execution_count": 144,
   "id": "128c92af",
   "metadata": {},
   "outputs": [
    {
     "name": "stdout",
     "output_type": "stream",
     "text": [
      "[[ 0  1  2  3  4  5  6  7  8  9]\n",
      " [10 11 12 13 14 15 16 17 18 19]\n",
      " [20 21 22 23 24 25 26 27 28 29]\n",
      " [30 31 32 33 34 35 36 37 38 39]\n",
      " [40 41 42 43 44 45 46 47 48 49]\n",
      " [50 51 52 53 54 55 56 57 58 59]\n",
      " [60 61 62 63 64 65 66 67 68 69]\n",
      " [70 71 72 73 74 75 76 77 78 79]\n",
      " [80 81 82 83 84 85 86 87 88 89]\n",
      " [90 91 92 93 94 95 96 97 98 99]]\n"
     ]
    }
   ],
   "source": [
    "ar = np.arange(100).reshape(10,10)\n",
    "print(ar)"
   ]
  },
  {
   "cell_type": "code",
   "execution_count": 148,
   "id": "cdab6080",
   "metadata": {},
   "outputs": [
    {
     "data": {
      "text/plain": [
       "array([[ 4,  5,  6],\n",
       "       [14, 15, 16],\n",
       "       [24, 25, 26],\n",
       "       [34, 35, 36]])"
      ]
     },
     "execution_count": 148,
     "metadata": {},
     "output_type": "execute_result"
    }
   ],
   "source": [
    "ar[0:4, 4:7] #row, col"
   ]
  },
  {
   "cell_type": "code",
   "execution_count": 172,
   "id": "1801c2e1",
   "metadata": {
    "collapsed": true
   },
   "outputs": [
    {
     "data": {
      "text/plain": [
       "array([[[[[[31, 35,  9, 98],\n",
       "           [16, 93, 44, 30],\n",
       "           [54, 74, 54, 51]],\n",
       "\n",
       "          [[97, 31, 12, 80],\n",
       "           [87, 58, 98, 53],\n",
       "           [35,  3, 90, 97]]],\n",
       "\n",
       "\n",
       "         [[[41, 76, 27, 93],\n",
       "           [ 5,  3, 10, 58],\n",
       "           [88, 15, 43, 99]],\n",
       "\n",
       "          [[38, 87, 68, 63],\n",
       "           [65, 95, 89, 62],\n",
       "           [84, 47, 54, 86]]],\n",
       "\n",
       "\n",
       "         [[[79, 40, 30, 18],\n",
       "           [35, 19, 64, 80],\n",
       "           [93, 67, 40, 79]],\n",
       "\n",
       "          [[82, 80, 34, 99],\n",
       "           [ 8, 40, 37, 36],\n",
       "           [95, 73, 83, 25]]]],\n",
       "\n",
       "\n",
       "\n",
       "        [[[[92,  2, 72, 56],\n",
       "           [87, 36, 72, 26],\n",
       "           [97, 67, 85, 52]],\n",
       "\n",
       "          [[38, 50, 73, 76],\n",
       "           [40, 33, 77, 81],\n",
       "           [ 3, 25, 59, 62]]],\n",
       "\n",
       "\n",
       "         [[[23, 50, 28,  5],\n",
       "           [77, 50, 19, 95],\n",
       "           [72, 26, 45, 64]],\n",
       "\n",
       "          [[81, 28, 42, 84],\n",
       "           [17, 53, 25, 81],\n",
       "           [ 2, 60, 30, 84]]],\n",
       "\n",
       "\n",
       "         [[[47,  9, 44, 86],\n",
       "           [56, 68,  8, 16],\n",
       "           [95, 86, 39,  2]],\n",
       "\n",
       "          [[80, 62, 55, 59],\n",
       "           [73, 76, 32, 65],\n",
       "           [48, 89,  8, 83]]]],\n",
       "\n",
       "\n",
       "\n",
       "        [[[[ 4, 18, 65, 61],\n",
       "           [18, 60, 26, 34],\n",
       "           [50, 83, 44, 30]],\n",
       "\n",
       "          [[53, 24, 94,  2],\n",
       "           [52, 51, 21, 76],\n",
       "           [98, 96, 29, 32]]],\n",
       "\n",
       "\n",
       "         [[[56, 87,  6, 84],\n",
       "           [81, 92, 13, 21],\n",
       "           [28, 34, 90, 23]],\n",
       "\n",
       "          [[12, 10, 31, 18],\n",
       "           [30, 81, 38, 52],\n",
       "           [15,  4, 44, 30]]],\n",
       "\n",
       "\n",
       "         [[[40, 85,  1, 36],\n",
       "           [66, 77, 58, 53],\n",
       "           [34, 87, 93, 69]],\n",
       "\n",
       "          [[88, 59, 89, 62],\n",
       "           [92, 38,  2, 82],\n",
       "           [57,  4, 92, 43]]]]],\n",
       "\n",
       "\n",
       "\n",
       "\n",
       "       [[[[[43, 98, 69, 76],\n",
       "           [40,  9, 66, 52],\n",
       "           [ 7, 91, 79, 94]],\n",
       "\n",
       "          [[40, 80, 70, 35],\n",
       "           [12, 53, 92, 93],\n",
       "           [95, 78, 77, 28]]],\n",
       "\n",
       "\n",
       "         [[[43, 91, 28, 20],\n",
       "           [20, 41, 10, 39],\n",
       "           [15, 44, 26, 88]],\n",
       "\n",
       "          [[10, 91,  3, 77],\n",
       "           [ 1, 26, 66, 86],\n",
       "           [11, 48, 16, 58]]],\n",
       "\n",
       "\n",
       "         [[[40, 12, 53, 47],\n",
       "           [32, 48, 61, 77],\n",
       "           [72, 90, 62, 25]],\n",
       "\n",
       "          [[18, 32, 21, 13],\n",
       "           [73, 56, 29, 74],\n",
       "           [94, 61, 47, 48]]]],\n",
       "\n",
       "\n",
       "\n",
       "        [[[[94,  7, 48, 34],\n",
       "           [40,  2, 87, 92],\n",
       "           [18, 74, 15, 86]],\n",
       "\n",
       "          [[16, 42, 51, 11],\n",
       "           [95, 43, 42, 84],\n",
       "           [ 8, 63, 89, 96]]],\n",
       "\n",
       "\n",
       "         [[[28, 13, 36, 37],\n",
       "           [24, 26, 35, 14],\n",
       "           [ 3, 31, 31, 88]],\n",
       "\n",
       "          [[92, 21, 60,  4],\n",
       "           [57, 64,  7, 63],\n",
       "           [ 3, 58, 19, 28]]],\n",
       "\n",
       "\n",
       "         [[[98, 79, 67, 55],\n",
       "           [19, 47, 71, 79],\n",
       "           [20, 35, 59,  4]],\n",
       "\n",
       "          [[ 6, 19, 79, 10],\n",
       "           [74, 91, 15, 23],\n",
       "           [13, 90, 80, 12]]]],\n",
       "\n",
       "\n",
       "\n",
       "        [[[[94, 46, 56, 74],\n",
       "           [72, 67, 39, 33],\n",
       "           [ 7, 10, 68, 37]],\n",
       "\n",
       "          [[66,  0, 22, 65],\n",
       "           [38, 43, 56, 44],\n",
       "           [78, 58, 60, 12]]],\n",
       "\n",
       "\n",
       "         [[[35,  4, 86, 94],\n",
       "           [46, 48, 84, 14],\n",
       "           [17, 56, 42, 86]],\n",
       "\n",
       "          [[34, 20, 65, 85],\n",
       "           [56, 37, 57, 50],\n",
       "           [76, 30, 14, 48]]],\n",
       "\n",
       "\n",
       "         [[[ 0, 40,  9, 25],\n",
       "           [24, 52, 32, 80],\n",
       "           [29, 74, 44, 63]],\n",
       "\n",
       "          [[22, 49, 94,  3],\n",
       "           [65,  6, 78, 70],\n",
       "           [52, 10, 61, 99]]]]],\n",
       "\n",
       "\n",
       "\n",
       "\n",
       "       [[[[[79, 18, 17, 86],\n",
       "           [60, 69, 12, 78],\n",
       "           [65, 17, 99, 66]],\n",
       "\n",
       "          [[18, 95, 56, 23],\n",
       "           [39, 65, 35, 73],\n",
       "           [ 5, 69, 65, 15]]],\n",
       "\n",
       "\n",
       "         [[[66, 24, 14, 43],\n",
       "           [ 6, 19, 66,  5],\n",
       "           [24, 74, 28, 64]],\n",
       "\n",
       "          [[42, 48, 36, 57],\n",
       "           [ 1, 18, 24, 14],\n",
       "           [54, 89, 39, 94]]],\n",
       "\n",
       "\n",
       "         [[[79, 34, 50, 81],\n",
       "           [92, 86, 10, 84],\n",
       "           [75, 91, 74, 21]],\n",
       "\n",
       "          [[41, 71, 92, 26],\n",
       "           [74, 37, 68, 10],\n",
       "           [64,  2, 80, 47]]]],\n",
       "\n",
       "\n",
       "\n",
       "        [[[[74, 59, 35, 64],\n",
       "           [63,  8, 58, 99],\n",
       "           [48, 85, 90,  6]],\n",
       "\n",
       "          [[35, 72, 40,  5],\n",
       "           [ 2, 23, 91, 69],\n",
       "           [71, 41,  1, 58]]],\n",
       "\n",
       "\n",
       "         [[[81, 46, 91,  4],\n",
       "           [64, 96, 40, 44],\n",
       "           [12,  1, 20, 17]],\n",
       "\n",
       "          [[21, 16, 58, 19],\n",
       "           [55, 21, 95, 90],\n",
       "           [23, 88, 76, 97]]],\n",
       "\n",
       "\n",
       "         [[[48, 20,  0,  7],\n",
       "           [66, 10, 90,  3],\n",
       "           [65, 41,  2, 10]],\n",
       "\n",
       "          [[ 9, 54, 90, 13],\n",
       "           [80, 93, 56,  4],\n",
       "           [45,  0, 70,  1]]]],\n",
       "\n",
       "\n",
       "\n",
       "        [[[[14, 12, 86, 24],\n",
       "           [74, 12, 21, 83],\n",
       "           [81, 55, 23, 72]],\n",
       "\n",
       "          [[70, 49,  9, 13],\n",
       "           [73, 85, 12, 85],\n",
       "           [75, 26, 41, 22]]],\n",
       "\n",
       "\n",
       "         [[[30, 39,  9,  0],\n",
       "           [63,  4, 34, 89],\n",
       "           [92, 14, 26, 35]],\n",
       "\n",
       "          [[95, 75, 44, 84],\n",
       "           [80, 45, 28, 31],\n",
       "           [44, 51, 71, 93]]],\n",
       "\n",
       "\n",
       "         [[[55,  9, 38, 79],\n",
       "           [97, 20,  3, 86],\n",
       "           [45, 72,  8, 89]],\n",
       "\n",
       "          [[45, 36, 42, 75],\n",
       "           [56, 68, 41,  1],\n",
       "           [38,  5, 81, 16]]]]],\n",
       "\n",
       "\n",
       "\n",
       "\n",
       "       [[[[[33, 65, 79, 72],\n",
       "           [34, 76, 41, 24],\n",
       "           [78, 68, 18, 56]],\n",
       "\n",
       "          [[26, 20,  7,  2],\n",
       "           [99, 23, 47, 99],\n",
       "           [88, 53, 32, 58]]],\n",
       "\n",
       "\n",
       "         [[[35, 42,  4, 80],\n",
       "           [ 9, 48, 35, 48],\n",
       "           [ 1,  5, 90, 72]],\n",
       "\n",
       "          [[35, 58, 36, 13],\n",
       "           [14,  9, 73,  9],\n",
       "           [22, 34, 27, 54]]],\n",
       "\n",
       "\n",
       "         [[[ 2, 51, 57, 95],\n",
       "           [ 8, 11, 39, 50],\n",
       "           [11, 89, 30, 83]],\n",
       "\n",
       "          [[60, 87, 40, 59],\n",
       "           [67, 96, 74,  4],\n",
       "           [76, 54, 18, 87]]]],\n",
       "\n",
       "\n",
       "\n",
       "        [[[[98, 76, 69, 16],\n",
       "           [36, 93, 14, 39],\n",
       "           [46, 93, 56, 54]],\n",
       "\n",
       "          [[36, 91, 14,  4],\n",
       "           [55, 29, 48, 19],\n",
       "           [ 7, 63, 49, 79]]],\n",
       "\n",
       "\n",
       "         [[[11, 37, 59, 34],\n",
       "           [92, 15, 55, 77],\n",
       "           [ 9, 19, 21, 55]],\n",
       "\n",
       "          [[57,  2, 73, 79],\n",
       "           [ 5, 28, 77, 38],\n",
       "           [81, 38, 46, 99]]],\n",
       "\n",
       "\n",
       "         [[[48, 35,  3, 30],\n",
       "           [ 8, 79, 44, 25],\n",
       "           [99, 97, 33, 48]],\n",
       "\n",
       "          [[62, 77, 53, 29],\n",
       "           [ 7, 76,  9, 94],\n",
       "           [66, 19, 86, 30]]]],\n",
       "\n",
       "\n",
       "\n",
       "        [[[[72,  1, 15,  3],\n",
       "           [96, 90, 77, 85],\n",
       "           [24,  8, 71, 15]],\n",
       "\n",
       "          [[ 9, 97, 73, 61],\n",
       "           [66, 32, 42, 50],\n",
       "           [58, 76, 33, 64]]],\n",
       "\n",
       "\n",
       "         [[[68, 79,  2, 64],\n",
       "           [87, 97, 46,  6],\n",
       "           [51, 61, 87, 20]],\n",
       "\n",
       "          [[68, 66, 65, 56],\n",
       "           [57, 54, 31, 28],\n",
       "           [44, 40, 44, 55]]],\n",
       "\n",
       "\n",
       "         [[[27, 57, 21, 19],\n",
       "           [40, 80, 79, 42],\n",
       "           [67,  5, 22, 85]],\n",
       "\n",
       "          [[21, 76, 58, 16],\n",
       "           [68, 66, 14, 39],\n",
       "           [78, 80, 98, 97]]]]],\n",
       "\n",
       "\n",
       "\n",
       "\n",
       "       [[[[[14, 48, 49, 34],\n",
       "           [98, 90, 94, 71],\n",
       "           [71, 80, 53,  7]],\n",
       "\n",
       "          [[67, 43, 74, 92],\n",
       "           [61, 22, 47, 24],\n",
       "           [17, 11, 38, 53]]],\n",
       "\n",
       "\n",
       "         [[[84, 96, 90, 75],\n",
       "           [13, 68, 94, 18],\n",
       "           [96, 21, 58, 20]],\n",
       "\n",
       "          [[70, 57, 43, 19],\n",
       "           [ 2, 97,  4, 51],\n",
       "           [60, 81, 52, 25]]],\n",
       "\n",
       "\n",
       "         [[[19, 42,  1,  5],\n",
       "           [98, 20, 39, 19],\n",
       "           [21, 43, 84, 78]],\n",
       "\n",
       "          [[53, 51, 86,  9],\n",
       "           [56, 48, 83, 53],\n",
       "           [41,  3, 78,  5]]]],\n",
       "\n",
       "\n",
       "\n",
       "        [[[[ 8, 70, 21, 71],\n",
       "           [34, 27, 38, 18],\n",
       "           [41, 51, 68, 53]],\n",
       "\n",
       "          [[ 7, 41, 16, 31],\n",
       "           [75, 65, 56, 78],\n",
       "           [78, 86, 76, 16]]],\n",
       "\n",
       "\n",
       "         [[[69, 41, 53, 60],\n",
       "           [96, 12, 54,  4],\n",
       "           [12, 33, 42, 18]],\n",
       "\n",
       "          [[35, 91, 35, 11],\n",
       "           [62, 66, 27, 19],\n",
       "           [77, 99, 87,  3]]],\n",
       "\n",
       "\n",
       "         [[[49, 86, 10, 47],\n",
       "           [23, 52, 32, 72],\n",
       "           [ 6, 65, 98, 33]],\n",
       "\n",
       "          [[22, 14, 34, 78],\n",
       "           [12, 42, 17,  7],\n",
       "           [23, 70, 13, 95]]]],\n",
       "\n",
       "\n",
       "\n",
       "        [[[[75, 13, 43, 67],\n",
       "           [ 5, 24, 43, 41],\n",
       "           [20, 32,  1, 60]],\n",
       "\n",
       "          [[ 6, 95, 45, 28],\n",
       "           [57, 93, 65, 85],\n",
       "           [29, 90, 35, 48]]],\n",
       "\n",
       "\n",
       "         [[[40, 84, 97, 48],\n",
       "           [94, 18, 50, 73],\n",
       "           [96, 13, 80, 30]],\n",
       "\n",
       "          [[ 9, 16, 66, 78],\n",
       "           [41, 79, 26, 10],\n",
       "           [31, 65, 60, 54]]],\n",
       "\n",
       "\n",
       "         [[[45, 75, 61,  6],\n",
       "           [63, 72, 78, 52],\n",
       "           [34,  5,  8, 36]],\n",
       "\n",
       "          [[ 5, 64, 84, 31],\n",
       "           [38, 93, 11, 45],\n",
       "           [27, 15,  3, 85]]]]]])"
      ]
     },
     "execution_count": 172,
     "metadata": {},
     "output_type": "execute_result"
    }
   ],
   "source": [
    "ar = np.zeros((5,3,3,2,3,4), dtype='int32')\n",
    "r = (np.random.rand(5,3,3,2,3,4)*100).astype('int32')\n",
    "ar = ar+r\n",
    "ar"
   ]
  },
  {
   "cell_type": "code",
   "execution_count": 161,
   "id": "3be8bace",
   "metadata": {
    "scrolled": true
   },
   "outputs": [
    {
     "data": {
      "text/plain": [
       "array([23, 57,  3])"
      ]
     },
     "execution_count": 161,
     "metadata": {},
     "output_type": "execute_result"
    }
   ],
   "source": [
    "ar[:, 1,1]"
   ]
  },
  {
   "cell_type": "code",
   "execution_count": 162,
   "id": "271d4eb9",
   "metadata": {},
   "outputs": [
    {
     "data": {
      "text/plain": [
       "array([ 4, 22])"
      ]
     },
     "execution_count": 162,
     "metadata": {},
     "output_type": "execute_result"
    }
   ],
   "source": [
    "ar[1,1:, -1]"
   ]
  },
  {
   "cell_type": "code",
   "execution_count": 164,
   "id": "9668fefc",
   "metadata": {},
   "outputs": [],
   "source": [
    "mask = ar>50\n",
    "# mask"
   ]
  },
  {
   "cell_type": "code",
   "execution_count": 165,
   "id": "76e2ef60",
   "metadata": {},
   "outputs": [
    {
     "data": {
      "text/plain": [
       "array([68, 60, 73, 98, 84, 72, 66, 52, 57, 57, 99, 96])"
      ]
     },
     "execution_count": 165,
     "metadata": {},
     "output_type": "execute_result"
    }
   ],
   "source": [
    "ar[mask]"
   ]
  },
  {
   "cell_type": "code",
   "execution_count": 166,
   "id": "2cf96182",
   "metadata": {},
   "outputs": [
    {
     "data": {
      "text/plain": [
       "array([68, 60, 73, 23, 98, 84, 43, 72, 66, 52, 29, 57, 57, 45, 99, 22, 47,\n",
       "       96, 40, 37])"
      ]
     },
     "execution_count": 166,
     "metadata": {},
     "output_type": "execute_result"
    }
   ],
   "source": [
    "ar[ar>20]"
   ]
  },
  {
   "cell_type": "code",
   "execution_count": 167,
   "id": "59694805",
   "metadata": {},
   "outputs": [
    {
     "data": {
      "text/plain": [
       "(array([1, 2, 3]),\n",
       " array([[10],\n",
       "        [20],\n",
       "        [30]]))"
      ]
     },
     "execution_count": 167,
     "metadata": {},
     "output_type": "execute_result"
    }
   ],
   "source": [
    "rowv = np.array([1,2,3])\n",
    "colv = np.array([[10], [20], [30]])\n",
    "rowv, colv"
   ]
  },
  {
   "cell_type": "code",
   "execution_count": 168,
   "id": "680bc3ec",
   "metadata": {},
   "outputs": [
    {
     "data": {
      "text/plain": [
       "array([[11, 12, 13],\n",
       "       [21, 22, 23],\n",
       "       [31, 32, 33]])"
      ]
     },
     "execution_count": 168,
     "metadata": {},
     "output_type": "execute_result"
    }
   ],
   "source": [
    "rowv+colv"
   ]
  },
  {
   "cell_type": "code",
   "execution_count": 169,
   "id": "6862ce13",
   "metadata": {},
   "outputs": [
    {
     "ename": "ValueError",
     "evalue": "operands could not be broadcast together with shapes (3,5) (2,4) ",
     "output_type": "error",
     "traceback": [
      "\u001b[1;31m---------------------------------------------------------------------------\u001b[0m",
      "\u001b[1;31mValueError\u001b[0m                                Traceback (most recent call last)",
      "Cell \u001b[1;32mIn[169], line 3\u001b[0m\n\u001b[0;32m      1\u001b[0m ar \u001b[38;5;241m=\u001b[39m np\u001b[38;5;241m.\u001b[39marange(\u001b[38;5;241m15\u001b[39m)\u001b[38;5;241m.\u001b[39mreshape(\u001b[38;5;241m3\u001b[39m,\u001b[38;5;241m5\u001b[39m)\n\u001b[0;32m      2\u001b[0m ar2 \u001b[38;5;241m=\u001b[39m np\u001b[38;5;241m.\u001b[39marange(\u001b[38;5;241m8\u001b[39m)\u001b[38;5;241m.\u001b[39mreshape(\u001b[38;5;241m2\u001b[39m,\u001b[38;5;241m4\u001b[39m)\n\u001b[1;32m----> 3\u001b[0m \u001b[43mar\u001b[49m\u001b[38;5;241;43m+\u001b[39;49m\u001b[43mar2\u001b[49m\n",
      "\u001b[1;31mValueError\u001b[0m: operands could not be broadcast together with shapes (3,5) (2,4) "
     ]
    }
   ],
   "source": [
    "ar = np.arange(15).reshape(3,5)\n",
    "ar2 = np.arange(8).reshape(2,4)\n"
   ]
  },
  {
   "cell_type": "code",
   "execution_count": 170,
   "id": "fcb322fb",
   "metadata": {},
   "outputs": [
    {
     "data": {
      "text/plain": [
       "array([[0, 1, 2],\n",
       "       [3, 4, 5],\n",
       "       [6, 7, 8]])"
      ]
     },
     "execution_count": 170,
     "metadata": {},
     "output_type": "execute_result"
    }
   ],
   "source": [
    "#np.where,np.pad, correlate, convolve,unique, argmax, sig\n",
    "ar = np.arange(25).reshape(5,5)\n",
    "np.resize(ar, (3,3))"
   ]
  },
  {
   "cell_type": "code",
   "execution_count": null,
   "id": "7df1ff24",
   "metadata": {},
   "outputs": [],
   "source": []
  }
 ],
 "metadata": {
  "kernelspec": {
   "display_name": "Python 3 (ipykernel)",
   "language": "python",
   "name": "python3"
  },
  "language_info": {
   "codemirror_mode": {
    "name": "ipython",
    "version": 3
   },
   "file_extension": ".py",
   "mimetype": "text/x-python",
   "name": "python",
   "nbconvert_exporter": "python",
   "pygments_lexer": "ipython3",
   "version": "3.10.9"
  }
 },
 "nbformat": 4,
 "nbformat_minor": 5
}
