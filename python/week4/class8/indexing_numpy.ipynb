{
 "cells": [
  {
   "cell_type": "code",
   "execution_count": 2,
   "id": "94bab51b",
   "metadata": {},
   "outputs": [
    {
     "name": "stdout",
     "output_type": "stream",
     "text": [
      "3\n",
      "4\n",
      "1\n",
      "[1 2 3 4 5]\n",
      "[3 4]\n"
     ]
    }
   ],
   "source": [
    "# single indexing and one dimension\n",
    "import numpy as np\n",
    "SIndex =np.array( [1,2,3,4,5])\n",
    "\n",
    "print(SIndex[2])\n",
    "print(SIndex[3])\n",
    "print(SIndex[0])\n",
    "\n",
    "# slicing indexing \n",
    "\n",
    "print(SIndex[0:])\n",
    "print(SIndex[2:-1])"
   ]
  },
  {
   "cell_type": "code",
   "execution_count": 5,
   "id": "e9c5ed49",
   "metadata": {},
   "outputs": [
    {
     "name": "stdout",
     "output_type": "stream",
     "text": [
      "[[1 2 3]\n",
      " [4 5 6]\n",
      " [7 8 9]]\n",
      "2\n",
      "8\n",
      "[2 5]\n",
      "[[2]\n",
      " [5]]\n"
     ]
    }
   ],
   "source": [
    "# move to multidimensions\n",
    "Dindex = np.array([[1,2,3],[4,5,6],[7,8,9]])\n",
    "print(Dindex)\n",
    "\n",
    "print(Dindex[0,1])\n",
    "print(Dindex[2,1])\n",
    "\n",
    "print(Dindex[0:2,1])\n",
    "print(Dindex[0:2,1:-1])"
   ]
  },
  {
   "cell_type": "code",
   "execution_count": 15,
   "id": "cc73921a",
   "metadata": {},
   "outputs": [
    {
     "name": "stdout",
     "output_type": "stream",
     "text": [
      "[False False False  True  True  True  True  True  True  True  True  True\n",
      "  True  True  True  True  True  True  True  True  True  True  True  True\n",
      "  True  True  True  True  True  True  True  True  True  True  True  True\n",
      "  True  True  True  True  True  True  True  True  True  True  True  True\n",
      "  True  True  True  True  True  True  True  True  True  True  True  True\n",
      "  True  True  True  True  True  True  True  True  True  True  True  True\n",
      "  True  True  True  True  True  True  True  True  True  True  True  True\n",
      "  True  True  True  True  True  True  True  True  True  True  True  True\n",
      "  True  True  True  True]\n",
      "[ 3  4  5  6  7  8  9 10 11 12 13 14 15 16 17 18 19 20 21 22 23 24 25 26\n",
      " 27 28 29 30 31 32 33 34 35 36 37 38 39 40 41 42 43 44 45 46 47 48 49 50\n",
      " 51 52 53 54 55 56 57 58 59 60 61 62 63 64 65 66 67 68 69 70 71 72 73 74\n",
      " 75 76 77 78 79 80 81 82 83 84 85 86 87 88 89 90 91 92 93 94 95 96 97 98\n",
      " 99]\n"
     ]
    }
   ],
   "source": [
    "# boolean indexing \n",
    "\n",
    "boolIndex = np.arange(100)\n",
    "boolIndex\n",
    "\n",
    "new = boolIndex>2\n",
    "print(new)\n",
    "#  will give us only treu and false\n",
    "\n",
    "new = boolIndex>2\n",
    "print(boolIndex[new])\n",
    "\n",
    "#  will give us numbers , when the is greater...\n"
   ]
  },
  {
   "cell_type": "code",
   "execution_count": 1,
   "id": "323a496b",
   "metadata": {},
   "outputs": [
    {
     "name": "stdout",
     "output_type": "stream",
     "text": [
      "[20 40 50]\n",
      "[10 30 50 70 40 90] \n",
      "\n",
      "[20 70 90]\n"
     ]
    }
   ],
   "source": [
    "#fancy indexing \n",
    "import numpy as np\n",
    "\n",
    "arr = np.array([10, 20, 30, 40, 50])\n",
    "\n",
    "indices = [1, 3, 4]\n",
    "print(arr[indices])  # Output: [20, 40, 50]\n",
    "\n",
    "arr = np.arange(0,100,10)\n",
    "\n",
    "fancy = [1,3,5,7,4,9]\n",
    "print(arr[fancy],\"\\n\")\n",
    "\n",
    "# let's try for double for two dimensions\n",
    "\n",
    "double = np.array([[10,20,30,40],[50,60,70,80],[90,100,110,120],[130,140,150,160]])\n",
    "# double\n",
    "rows = np.array([0, 1, 2])\n",
    "cols = np.array([1, 2, 0])\n",
    "\n",
    "print(double[rows, cols])\n"
   ]
  },
  {
   "cell_type": "code",
   "execution_count": null,
   "id": "9e8d6623",
   "metadata": {},
   "outputs": [],
   "source": [
    "# Integer Array Indexing for Multidimensional Arrays:\n",
    "\n",
    "\n",
    "import numpy as np\n",
    "\n",
    "arr_2d = np.array([[1, 2, 3], [4, 5, 6], [7, 8, 9]])\n",
    "\n",
    "rows = np.array([0, 1, 2])\n",
    "cols = np.array([1, 2, 0])\n",
    "\n",
    "print(arr_2d[rows, cols])\n",
    "# Output: [2 6 7]"
   ]
  }
 ],
 "metadata": {
  "kernelspec": {
   "display_name": "Python 3 (ipykernel)",
   "language": "python",
   "name": "python3"
  },
  "language_info": {
   "codemirror_mode": {
    "name": "ipython",
    "version": 3
   },
   "file_extension": ".py",
   "mimetype": "text/x-python",
   "name": "python",
   "nbconvert_exporter": "python",
   "pygments_lexer": "ipython3",
   "version": "3.10.9"
  }
 },
 "nbformat": 4,
 "nbformat_minor": 5
}
